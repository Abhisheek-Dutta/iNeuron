{
  "nbformat": 4,
  "nbformat_minor": 0,
  "metadata": {
    "colab": {
      "provenance": []
    },
    "kernelspec": {
      "name": "python3",
      "display_name": "Python 3"
    },
    "language_info": {
      "name": "python"
    }
  },
  "cells": [
    {
      "cell_type": "markdown",
      "source": [
        "# AGENDA\n",
        "1. Variable Case senstivity [clear]\n",
        "2. Reserved words in Python [clear]\n",
        "3. Multi assignment of variables [clear]\n",
        "4. User input [clear]\n",
        "5. type casting | type conversion [Doubt at the end]\n",
        "6. Memory block []\n",
        "7. Operators\n",
        "  - Logical\n",
        "  - Equality\n",
        "  - Comparision\n",
        "  - Arthimatic\n",
        "  - Bitwise [Advance classes]\n",
        "  - Operators for sets and dictionary [Advance classes]\n",
        "\n",
        "8. String methods"
      ],
      "metadata": {
        "id": "DVmVcM1LIXDE"
      }
    },
    {
      "cell_type": "markdown",
      "source": [
        "## Variable Case senstivity\n",
        "\n",
        "variable names defined as\n",
        "\n",
        "Ashish ashish"
      ],
      "metadata": {
        "id": "oU8UKhoMJjWG"
      }
    },
    {
      "cell_type": "code",
      "execution_count": 3,
      "metadata": {
        "id": "V-s72nEMIEy0"
      },
      "outputs": [],
      "source": [
        "TEN = 10\n",
        "ten = 20\n",
        "# TEN and ten both are different in terms of lowercase and uppercase letter"
      ]
    },
    {
      "cell_type": "code",
      "source": [
        "print(Ten)"
      ],
      "metadata": {
        "colab": {
          "base_uri": "https://localhost:8080/",
          "height": 197
        },
        "id": "55zCoGQ8J_61",
        "outputId": "929c07ac-f5cd-4d52-db5d-0c9f8cdcc9b4"
      },
      "execution_count": 28,
      "outputs": [
        {
          "output_type": "error",
          "ename": "NameError",
          "evalue": "ignored",
          "traceback": [
            "\u001b[0;31m---------------------------------------------------------------------------\u001b[0m",
            "\u001b[0;31mNameError\u001b[0m                                 Traceback (most recent call last)",
            "\u001b[0;32m<ipython-input-28-102da4055415>\u001b[0m in \u001b[0;36m<module>\u001b[0;34m\u001b[0m\n\u001b[0;32m----> 1\u001b[0;31m \u001b[0mprint\u001b[0m\u001b[0;34m(\u001b[0m\u001b[0mTen\u001b[0m\u001b[0;34m)\u001b[0m\u001b[0;34m\u001b[0m\u001b[0;34m\u001b[0m\u001b[0m\n\u001b[0m",
            "\u001b[0;31mNameError\u001b[0m: name 'Ten' is not defined"
          ]
        }
      ]
    },
    {
      "cell_type": "code",
      "source": [
        "TEN"
      ],
      "metadata": {
        "colab": {
          "base_uri": "https://localhost:8080/"
        },
        "id": "BrRNG6X9KFr1",
        "outputId": "ec20995f-f3fd-464b-d409-cfe3374b6658"
      },
      "execution_count": 6,
      "outputs": [
        {
          "output_type": "execute_result",
          "data": {
            "text/plain": [
              "10"
            ]
          },
          "metadata": {},
          "execution_count": 6
        }
      ]
    },
    {
      "cell_type": "markdown",
      "source": [
        "## Reserved words in Python\n",
        "\n",
        "https://docs.python.org/2.5/ref/keywords.html"
      ],
      "metadata": {
        "id": "OHkkQ9qEKSTM"
      }
    },
    {
      "cell_type": "markdown",
      "source": [
        "1. We should not use reserved words as variable names\n",
        "2. Also python doesn't restrict the user to use reserved keywords as variable names"
      ],
      "metadata": {
        "id": "W-LmC-qkKyfU"
      }
    },
    {
      "cell_type": "code",
      "source": [
        "print(\"Hi there\")"
      ],
      "metadata": {
        "colab": {
          "base_uri": "https://localhost:8080/"
        },
        "id": "mE4sxcykKJJ0",
        "outputId": "38c35de2-fd4a-4c44-e1e5-e622d10ea59c"
      },
      "execution_count": 7,
      "outputs": [
        {
          "output_type": "stream",
          "name": "stdout",
          "text": [
            "Hi there\n"
          ]
        }
      ]
    },
    {
      "cell_type": "code",
      "source": [
        "print = \"Hi there\" # as a variable\n",
        "type(print)"
      ],
      "metadata": {
        "colab": {
          "base_uri": "https://localhost:8080/"
        },
        "id": "kaDwRuH1KXal",
        "outputId": "fded930f-f5b1-4171-9952-e43805a94ca4"
      },
      "execution_count": 8,
      "outputs": [
        {
          "output_type": "execute_result",
          "data": {
            "text/plain": [
              "str"
            ]
          },
          "metadata": {},
          "execution_count": 8
        }
      ]
    },
    {
      "cell_type": "code",
      "source": [
        "print(\"Hi there\")"
      ],
      "metadata": {
        "colab": {
          "base_uri": "https://localhost:8080/"
        },
        "id": "6SUrJmKMLZMz",
        "outputId": "671b4705-1a13-4fe5-9a9e-6f67dedf50c9"
      },
      "execution_count": 27,
      "outputs": [
        {
          "output_type": "stream",
          "name": "stdout",
          "text": [
            "Hi there\n"
          ]
        }
      ]
    },
    {
      "cell_type": "code",
      "source": [
        "print = 12 # as a variable\n",
        "type(print)"
      ],
      "metadata": {
        "colab": {
          "base_uri": "https://localhost:8080/"
        },
        "id": "FQLa3XMhLcr8",
        "outputId": "876f768c-a042-4054-fab4-8764369e8314"
      },
      "execution_count": 10,
      "outputs": [
        {
          "output_type": "execute_result",
          "data": {
            "text/plain": [
              "int"
            ]
          },
          "metadata": {},
          "execution_count": 10
        }
      ]
    },
    {
      "cell_type": "code",
      "source": [
        "print(\"Hi there\")"
      ],
      "metadata": {
        "colab": {
          "base_uri": "https://localhost:8080/"
        },
        "id": "Fj01DKUCLf3s",
        "outputId": "ce0ed130-e520-4ca3-9e70-9acb6895e5b9"
      },
      "execution_count": 26,
      "outputs": [
        {
          "output_type": "stream",
          "name": "stdout",
          "text": [
            "Hi there\n"
          ]
        }
      ]
    },
    {
      "cell_type": "code",
      "source": [
        "del print # delete the variable print"
      ],
      "metadata": {
        "id": "dtl8lOLPLK0D"
      },
      "execution_count": 12,
      "outputs": []
    },
    {
      "cell_type": "code",
      "source": [
        "print(\"Hi there\")"
      ],
      "metadata": {
        "colab": {
          "base_uri": "https://localhost:8080/"
        },
        "id": "F8WshhVnKbD0",
        "outputId": "a109fcb2-6c85-4a14-888b-897542788bb2"
      },
      "execution_count": 13,
      "outputs": [
        {
          "output_type": "stream",
          "name": "stdout",
          "text": [
            "Hi there\n"
          ]
        }
      ]
    },
    {
      "cell_type": "code",
      "source": [
        "Print = \"Hi there\" # as a variable\n",
        "type(Print)"
      ],
      "metadata": {
        "colab": {
          "base_uri": "https://localhost:8080/"
        },
        "id": "K3EPZuZ2KcpU",
        "outputId": "850d96ef-37bd-4f15-af2a-56ab190d2ae8"
      },
      "execution_count": 25,
      "outputs": [
        {
          "output_type": "execute_result",
          "data": {
            "text/plain": [
              "str"
            ]
          },
          "metadata": {},
          "execution_count": 25
        }
      ]
    },
    {
      "cell_type": "code",
      "source": [
        "print(\"Hi there\")"
      ],
      "metadata": {
        "colab": {
          "base_uri": "https://localhost:8080/"
        },
        "id": "xMLBpkl-LU6b",
        "outputId": "3c3bbecc-e160-4497-8aa3-da47610f1f4f"
      },
      "execution_count": 14,
      "outputs": [
        {
          "output_type": "stream",
          "name": "stdout",
          "text": [
            "Hi there\n"
          ]
        }
      ]
    },
    {
      "cell_type": "code",
      "source": [
        "print = 10 "
      ],
      "metadata": {
        "id": "TmGpebqqVAp1"
      },
      "execution_count": 15,
      "outputs": []
    },
    {
      "cell_type": "code",
      "source": [
        "type(print)"
      ],
      "metadata": {
        "colab": {
          "base_uri": "https://localhost:8080/"
        },
        "id": "2rHp0U9WVWOD",
        "outputId": "2861e453-9c5c-46d1-a54c-a0c8beb2eb66"
      },
      "execution_count": 16,
      "outputs": [
        {
          "output_type": "execute_result",
          "data": {
            "text/plain": [
              "int"
            ]
          },
          "metadata": {},
          "execution_count": 16
        }
      ]
    },
    {
      "cell_type": "code",
      "source": [
        "del print"
      ],
      "metadata": {
        "id": "TDOL4SggVo51"
      },
      "execution_count": 17,
      "outputs": []
    },
    {
      "cell_type": "code",
      "source": [
        "print(\"Abhi\")"
      ],
      "metadata": {
        "colab": {
          "base_uri": "https://localhost:8080/"
        },
        "id": "AvQUbpdqVZUk",
        "outputId": "3c666bb4-d216-428e-eb60-ce5a1d71b7f7"
      },
      "execution_count": 39,
      "outputs": [
        {
          "output_type": "stream",
          "name": "stdout",
          "text": [
            "Abhi\n"
          ]
        }
      ]
    },
    {
      "cell_type": "markdown",
      "source": [
        "## Multi assignment of variables"
      ],
      "metadata": {
        "id": "yw9KNg31MJ9C"
      }
    },
    {
      "cell_type": "code",
      "source": [
        "a, b, c, yes = 10, 20.2, \"Abhi\", True"
      ],
      "metadata": {
        "id": "PdZLlxA4LV5C"
      },
      "execution_count": 40,
      "outputs": []
    },
    {
      "cell_type": "code",
      "source": [
        "type(a)"
      ],
      "metadata": {
        "colab": {
          "base_uri": "https://localhost:8080/"
        },
        "id": "gQUhFpf9MhqC",
        "outputId": "915dfacb-6343-4005-fe19-70d096218943"
      },
      "execution_count": 20,
      "outputs": [
        {
          "output_type": "execute_result",
          "data": {
            "text/plain": [
              "int"
            ]
          },
          "metadata": {},
          "execution_count": 20
        }
      ]
    },
    {
      "cell_type": "code",
      "source": [
        "type(b)"
      ],
      "metadata": {
        "colab": {
          "base_uri": "https://localhost:8080/"
        },
        "id": "TDZfkMKKMmS8",
        "outputId": "6fab8f25-0325-443f-833e-4300881d52e9"
      },
      "execution_count": 21,
      "outputs": [
        {
          "output_type": "execute_result",
          "data": {
            "text/plain": [
              "float"
            ]
          },
          "metadata": {},
          "execution_count": 21
        }
      ]
    },
    {
      "cell_type": "code",
      "source": [
        "type(c)"
      ],
      "metadata": {
        "colab": {
          "base_uri": "https://localhost:8080/"
        },
        "id": "nu2bLsRdMqyq",
        "outputId": "51ee8303-d91c-4ff4-9c2f-eefb6df1c8e1"
      },
      "execution_count": 22,
      "outputs": [
        {
          "output_type": "execute_result",
          "data": {
            "text/plain": [
              "str"
            ]
          },
          "metadata": {},
          "execution_count": 22
        }
      ]
    },
    {
      "cell_type": "code",
      "source": [
        "type(yes)"
      ],
      "metadata": {
        "colab": {
          "base_uri": "https://localhost:8080/"
        },
        "id": "Ith7tnrQMsiy",
        "outputId": "7fd5dc5d-b4a7-48bd-e705-9e1c11c0441f"
      },
      "execution_count": 23,
      "outputs": [
        {
          "output_type": "execute_result",
          "data": {
            "text/plain": [
              "bool"
            ]
          },
          "metadata": {},
          "execution_count": 23
        }
      ]
    },
    {
      "cell_type": "code",
      "source": [
        "type(a)"
      ],
      "metadata": {
        "colab": {
          "base_uri": "https://localhost:8080/"
        },
        "id": "u-3oJVJsNB7U",
        "outputId": "ddc11dac-df1c-4bde-a50f-39d64cbb0da2"
      },
      "execution_count": 24,
      "outputs": [
        {
          "output_type": "execute_result",
          "data": {
            "text/plain": [
              "int"
            ]
          },
          "metadata": {},
          "execution_count": 24
        }
      ]
    },
    {
      "cell_type": "code",
      "source": [
        "print(type(a))\n",
        "print(type(b))\n",
        "print(type(c))\n",
        "print(type(yes))"
      ],
      "metadata": {
        "colab": {
          "base_uri": "https://localhost:8080/"
        },
        "id": "swVHYegYM8HC",
        "outputId": "55c56743-85c1-4f79-e63a-2f073825b278"
      },
      "execution_count": 29,
      "outputs": [
        {
          "output_type": "stream",
          "name": "stdout",
          "text": [
            "<class 'int'>\n",
            "<class 'float'>\n",
            "<class 'str'>\n",
            "<class 'bool'>\n"
          ]
        }
      ]
    },
    {
      "cell_type": "code",
      "source": [
        "# a,b,c = 10"
      ],
      "metadata": {
        "id": "HmL2D6nqShhW"
      },
      "execution_count": 30,
      "outputs": []
    },
    {
      "cell_type": "code",
      "source": [
        "a,b,c = 10,10,10"
      ],
      "metadata": {
        "id": "PlD7XEFANQCa"
      },
      "execution_count": 31,
      "outputs": []
    },
    {
      "cell_type": "code",
      "source": [
        "a, A, c, C = 10, 20.2, \"Abhi\", True"
      ],
      "metadata": {
        "id": "D3-CBUsTOBcJ"
      },
      "execution_count": 38,
      "outputs": []
    },
    {
      "cell_type": "code",
      "source": [
        "print(a, A, c, C)"
      ],
      "metadata": {
        "colab": {
          "base_uri": "https://localhost:8080/"
        },
        "id": "ASXLkbvSOKpZ",
        "outputId": "7ea8131d-03cd-414a-d593-81e73f8884b0"
      },
      "execution_count": 33,
      "outputs": [
        {
          "output_type": "stream",
          "name": "stdout",
          "text": [
            "10 20.2 Sunny True\n"
          ]
        }
      ]
    },
    {
      "cell_type": "code",
      "source": [
        "a=b=c=10"
      ],
      "metadata": {
        "id": "0cpw9w9WOMzx"
      },
      "execution_count": 34,
      "outputs": []
    },
    {
      "cell_type": "code",
      "source": [
        "a,b,c"
      ],
      "metadata": {
        "colab": {
          "base_uri": "https://localhost:8080/"
        },
        "id": "U6GXf22IOUu6",
        "outputId": "c1cc895f-de35-42b1-a486-feb9f92e2db9"
      },
      "execution_count": 35,
      "outputs": [
        {
          "output_type": "execute_result",
          "data": {
            "text/plain": [
              "(10, 10, 10)"
            ]
          },
          "metadata": {},
          "execution_count": 35
        }
      ]
    },
    {
      "cell_type": "code",
      "source": [
        "firstName, middleName, sirName = \"Abhisheek\", \"Abhi\", \"Dutta\""
      ],
      "metadata": {
        "id": "YpszyuKHV2qC"
      },
      "execution_count": 43,
      "outputs": []
    },
    {
      "cell_type": "code",
      "source": [
        "print(f\"{firstName}.{sirName}@gmail.com\")"
      ],
      "metadata": {
        "colab": {
          "base_uri": "https://localhost:8080/"
        },
        "id": "yPHAO7AWWIJU",
        "outputId": "842efad8-6ec5-49fe-bebf-84df9b84c661"
      },
      "execution_count": 44,
      "outputs": [
        {
          "output_type": "stream",
          "name": "stdout",
          "text": [
            "Abhisheek.Dutta@gmail.com\n"
          ]
        }
      ]
    },
    {
      "cell_type": "code",
      "source": [
        "name, place, year_of_birth, weight = \"Abhisheek\", \"Jamshedpur\", 1996, 67"
      ],
      "metadata": {
        "id": "bUvSc-2VWb7I"
      },
      "execution_count": 47,
      "outputs": []
    },
    {
      "cell_type": "code",
      "source": [
        "print(f\"\"\"\n",
        "My name is: {name}\n",
        "I live at: {place}\n",
        "I was born in: {year_of_birth}\n",
        "My weight is: {weight} in Kgs\n",
        "\"\"\")"
      ],
      "metadata": {
        "colab": {
          "base_uri": "https://localhost:8080/"
        },
        "id": "Ov2_WdBSWp0k",
        "outputId": "260bc7d5-dabd-438e-fe67-678c85a6c2a6"
      },
      "execution_count": 48,
      "outputs": [
        {
          "output_type": "stream",
          "name": "stdout",
          "text": [
            "\n",
            "My name is: Abhisheek\n",
            "I live at: Jamshedpur\n",
            "I was born in: 1996\n",
            "My weight is: 67 in Kgs\n",
            "\n"
          ]
        }
      ]
    },
    {
      "cell_type": "markdown",
      "source": [
        "## User input"
      ],
      "metadata": {
        "id": "CBg-eM55O3Gg"
      }
    },
    {
      "cell_type": "code",
      "source": [
        "name = input(\"Enter your Name: \")\n",
        "\n",
        "print(f\"You have entered: {name}\")"
      ],
      "metadata": {
        "colab": {
          "base_uri": "https://localhost:8080/"
        },
        "id": "MbI0CvFuOWQJ",
        "outputId": "bd30b403-e149-4d47-f19f-87ccd266eb4c"
      },
      "execution_count": 49,
      "outputs": [
        {
          "output_type": "stream",
          "name": "stdout",
          "text": [
            "Enter your Name: Abhisheek\n",
            "You have entered: Abhisheek\n"
          ]
        }
      ]
    },
    {
      "cell_type": "code",
      "source": [
        "A = input(\"Enter value of A: \")\n",
        "B = input(\"Enter value of B: \")\n",
        "\n",
        "print(f\"Sum of A and B is: {A+B}\")"
      ],
      "metadata": {
        "colab": {
          "base_uri": "https://localhost:8080/"
        },
        "id": "dOghfO2nPI2m",
        "outputId": "0da82cb0-8ffb-4c6a-b8ef-d039c358ca88"
      },
      "execution_count": 50,
      "outputs": [
        {
          "output_type": "stream",
          "name": "stdout",
          "text": [
            "Enter value of A: 3\n",
            "Enter value of B: 4\n",
            "Sum of A and B is: 34\n"
          ]
        }
      ]
    },
    {
      "cell_type": "code",
      "source": [
        "A = int(input(\"Enter value of A: \"))\n",
        "B = int(input(\"Enter value of B: \"))\n",
        "\n",
        "print(f\"Sum of A and B is: {A+B}\")"
      ],
      "metadata": {
        "colab": {
          "base_uri": "https://localhost:8080/"
        },
        "id": "GGhg6Jv5YYiB",
        "outputId": "6c94b3f4-873c-48e0-a5e9-10d68368ea49"
      },
      "execution_count": 54,
      "outputs": [
        {
          "output_type": "stream",
          "name": "stdout",
          "text": [
            "Enter value of A: 12\n",
            "Enter value of B: 10\n",
            "Sum of A and B is: 22\n"
          ]
        }
      ]
    },
    {
      "cell_type": "code",
      "source": [
        "print(type(A), type(B))"
      ],
      "metadata": {
        "colab": {
          "base_uri": "https://localhost:8080/"
        },
        "id": "hHjGDwzGQB4n",
        "outputId": "2fabe5fc-24dd-49d7-ffc2-4bc72be07f39"
      },
      "execution_count": 56,
      "outputs": [
        {
          "output_type": "stream",
          "name": "stdout",
          "text": [
            "<class 'int'> <class 'int'>\n"
          ]
        }
      ]
    },
    {
      "cell_type": "code",
      "source": [
        "A = int(input(\"Enter value of A: \"))\n",
        "B = int(input(\"Enter value of B: \"))\n",
        "\n",
        "print(f\"Sum of A and B is: {A+B}\")"
      ],
      "metadata": {
        "colab": {
          "base_uri": "https://localhost:8080/",
          "height": 283
        },
        "id": "moxhyGDGZEV4",
        "outputId": "e5d8b20f-abdb-4041-ec1e-0b4615103002"
      },
      "execution_count": 59,
      "outputs": [
        {
          "name": "stdout",
          "output_type": "stream",
          "text": [
            "Enter value of A: 12.2\n"
          ]
        },
        {
          "output_type": "error",
          "ename": "ValueError",
          "evalue": "ignored",
          "traceback": [
            "\u001b[0;31m---------------------------------------------------------------------------\u001b[0m",
            "\u001b[0;31mValueError\u001b[0m                                Traceback (most recent call last)",
            "\u001b[0;32m<ipython-input-59-c3631b51c8d9>\u001b[0m in \u001b[0;36m<module>\u001b[0;34m\u001b[0m\n\u001b[0;32m----> 1\u001b[0;31m \u001b[0mA\u001b[0m \u001b[0;34m=\u001b[0m \u001b[0mint\u001b[0m\u001b[0;34m(\u001b[0m\u001b[0minput\u001b[0m\u001b[0;34m(\u001b[0m\u001b[0;34m\"Enter value of A: \"\u001b[0m\u001b[0;34m)\u001b[0m\u001b[0;34m)\u001b[0m\u001b[0;34m\u001b[0m\u001b[0;34m\u001b[0m\u001b[0m\n\u001b[0m\u001b[1;32m      2\u001b[0m \u001b[0mB\u001b[0m \u001b[0;34m=\u001b[0m \u001b[0mint\u001b[0m\u001b[0;34m(\u001b[0m\u001b[0minput\u001b[0m\u001b[0;34m(\u001b[0m\u001b[0;34m\"Enter value of B: \"\u001b[0m\u001b[0;34m)\u001b[0m\u001b[0;34m)\u001b[0m\u001b[0;34m\u001b[0m\u001b[0;34m\u001b[0m\u001b[0m\n\u001b[1;32m      3\u001b[0m \u001b[0;34m\u001b[0m\u001b[0m\n\u001b[1;32m      4\u001b[0m \u001b[0mprint\u001b[0m\u001b[0;34m(\u001b[0m\u001b[0;34mf\"Sum of A and B is: {A+B}\"\u001b[0m\u001b[0;34m)\u001b[0m\u001b[0;34m\u001b[0m\u001b[0;34m\u001b[0m\u001b[0m\n",
            "\u001b[0;31mValueError\u001b[0m: invalid literal for int() with base 10: '12.2'"
          ]
        }
      ]
    },
    {
      "cell_type": "code",
      "source": [
        "A = float(input(\"Enter value of A: \"))\n",
        "B = int(input(\"Enter value of B: \"))\n",
        "\n",
        "print(f\"Sum of A and B is: {A+B}\")"
      ],
      "metadata": {
        "colab": {
          "base_uri": "https://localhost:8080/"
        },
        "id": "Uj00TbSHZIYH",
        "outputId": "8d82aab1-235f-4dc0-9b1f-4165f1daacdc"
      },
      "execution_count": 60,
      "outputs": [
        {
          "output_type": "stream",
          "name": "stdout",
          "text": [
            "Enter value of A: 12.2\n",
            "Enter value of B: 12\n",
            "Sum of A and B is: 24.2\n"
          ]
        }
      ]
    },
    {
      "cell_type": "code",
      "source": [
        "print(type(A), type(B))"
      ],
      "metadata": {
        "colab": {
          "base_uri": "https://localhost:8080/"
        },
        "id": "rc_N7lDOZSQn",
        "outputId": "c04d7065-3ca4-4891-9a0e-3db2222dcfd9"
      },
      "execution_count": 61,
      "outputs": [
        {
          "output_type": "stream",
          "name": "stdout",
          "text": [
            "<class 'float'> <class 'int'>\n"
          ]
        }
      ]
    },
    {
      "cell_type": "code",
      "source": [
        "A = input(\"Enter value of A: \")\n",
        "B = input(\"Enter value of B: \")\n",
        "\n",
        "print(type(A), type(B))"
      ],
      "metadata": {
        "colab": {
          "base_uri": "https://localhost:8080/"
        },
        "id": "tzylmWEtPhux",
        "outputId": "c4d0cbab-0e3e-451a-932a-ed6159beebfb"
      },
      "execution_count": 57,
      "outputs": [
        {
          "output_type": "stream",
          "name": "stdout",
          "text": [
            "Enter value of A: 12\n",
            "Enter value of B: 10\n",
            "<class 'str'> <class 'str'>\n"
          ]
        }
      ]
    },
    {
      "cell_type": "code",
      "source": [
        "name = input(\"Name: \")\n",
        "place = input(\"place: \")\n",
        "year_of_birth = input(\"year_of_birth: \")"
      ],
      "metadata": {
        "id": "WYYEPAmCaGWW",
        "colab": {
          "base_uri": "https://localhost:8080/"
        },
        "outputId": "9079da54-dae9-4465-edf7-e5663355ee43"
      },
      "execution_count": 58,
      "outputs": [
        {
          "name": "stdout",
          "output_type": "stream",
          "text": [
            "Name: Abhisheek\n",
            "place: Jamshedpur\n",
            "year_of_birth: 1996\n"
          ]
        }
      ]
    },
    {
      "cell_type": "code",
      "source": [
        "print(f\"\"\"\n",
        "My name is: {name}\n",
        "I live at: {place}\n",
        "I was born in: {year_of_birth}\n",
        "\"\"\")"
      ],
      "metadata": {
        "id": "Zq9JV_i8aQlR"
      },
      "execution_count": null,
      "outputs": []
    },
    {
      "cell_type": "code",
      "source": [
        "# calcualte the age of the user\n",
        "\n",
        "name = input(\"Name: \") # always gives you string values\n",
        "place = input(\"place: \")\n",
        "year_of_birth = input(\"year_of_birth: \")\n",
        "\n",
        "age = 2022 - year_of_birth\n",
        "\n",
        "print(f\"\"\"\n",
        "My name is: {name}\n",
        "I live at: {place}\n",
        "{name} is of age: {age}\n",
        "\"\"\")"
      ],
      "metadata": {
        "id": "kwfYJk98a_Uf"
      },
      "execution_count": null,
      "outputs": []
    },
    {
      "cell_type": "code",
      "source": [
        "# calcualte the age of the user\n",
        "\n",
        "name = input(\"Name: \") # always gives you string values\n",
        "place = input(\"place: \")\n",
        "year_of_birth = int(input(\"year_of_birth: \")) # convert this into integer\n",
        "\n",
        "age = 2022 - year_of_birth\n",
        "\n",
        "print(f\"\"\"\n",
        "My name is: {name}\n",
        "I live at: {place}\n",
        "{name} is of age: {age}\n",
        "\"\"\")"
      ],
      "metadata": {
        "colab": {
          "base_uri": "https://localhost:8080/"
        },
        "id": "Z3x2mIrtbgOY",
        "outputId": "dc2add43-129a-4b70-ae1b-b757edffe6d1"
      },
      "execution_count": 62,
      "outputs": [
        {
          "output_type": "stream",
          "name": "stdout",
          "text": [
            "Name: Abhisheek Dutta\n",
            "place: Jamshedpur\n",
            "year_of_birth: 1996\n",
            "\n",
            "My name is: Abhisheek Dutta\n",
            "I live at: Jamshedpur\n",
            "Abhisheek Dutta is of age: 26\n",
            "\n"
          ]
        }
      ]
    },
    {
      "cell_type": "code",
      "source": [
        "# calcualte the age of the user\n",
        "\n",
        "name = input(\"name: \") # always gives you string values\n",
        "place = input(\"place: \")\n",
        "year_of_birth = input(\"year_of_birth: \") # convert this into integer\n",
        "\n",
        "age = 2022 - int(year_of_birth)\n",
        "\n",
        "print(f\"\"\"\n",
        "My name is: {name}\n",
        "I live at: {place}\n",
        "{name} is of age: {age}\n",
        "\"\"\")"
      ],
      "metadata": {
        "colab": {
          "base_uri": "https://localhost:8080/"
        },
        "id": "kdSHHObJb0sP",
        "outputId": "54e3199e-74b9-4d8b-ec48-9656027b02f0"
      },
      "execution_count": 144,
      "outputs": [
        {
          "output_type": "stream",
          "name": "stdout",
          "text": [
            "name: Abhisheek\n",
            "place: Jamshedpur\n",
            "year_of_birth: 1996\n",
            "\n",
            "My name is: Abhisheek\n",
            "I live at: Jamshedpur\n",
            "Abhisheek is of age: 26\n",
            "\n"
          ]
        }
      ]
    },
    {
      "cell_type": "code",
      "source": [
        "# calcualte the age of the user\n",
        "\n",
        "name = input(\"Name: \") # always gives you string values\n",
        "place = input(\"place: \")\n",
        "year_of_birth = input(\"year_of_birth: \") # convert this into integer\n",
        "current_year = input(\"current year: \")\n",
        "age = int(current_year) - int(year_of_birth)\n",
        "\n",
        "print(f\"\"\"\n",
        "My name is: {name}\n",
        "I live at: {place}\n",
        "{name} is of age: {age}\n",
        "\"\"\")"
      ],
      "metadata": {
        "colab": {
          "base_uri": "https://localhost:8080/"
        },
        "id": "lmACB5ZmcFrJ",
        "outputId": "43d53ad5-6a38-458e-dd95-2087020a666c"
      },
      "execution_count": 64,
      "outputs": [
        {
          "output_type": "stream",
          "name": "stdout",
          "text": [
            "Name: Abhisheek\n",
            "place: Jamshedpur\n",
            "year_of_birth: 1996\n",
            "current year: 2023\n",
            "\n",
            "My name is: Abhisheek\n",
            "I live at: Jamshedpur\n",
            "Abhisheek is of age: 27\n",
            "\n"
          ]
        }
      ]
    },
    {
      "cell_type": "markdown",
      "source": [
        "## Type conversion\n",
        "\n",
        "We can convert the data type of one variable into another if it is allowed\n"
      ],
      "metadata": {
        "id": "dQzI-ZL5RMpY"
      }
    },
    {
      "cell_type": "code",
      "source": [
        "A = int(input(\"Enter value of A: \"))\n",
        "B = int(input(\"Enter value of B: \"))\n",
        "\n",
        "print(type(A), type(B))"
      ],
      "metadata": {
        "colab": {
          "base_uri": "https://localhost:8080/"
        },
        "id": "nJrdKZH9P4VX",
        "outputId": "1978cb20-29df-4b9d-cd88-10d6a7b4e37a"
      },
      "execution_count": 65,
      "outputs": [
        {
          "output_type": "stream",
          "name": "stdout",
          "text": [
            "Enter value of A: 12\n",
            "Enter value of B: 12\n",
            "<class 'int'> <class 'int'>\n"
          ]
        }
      ]
    },
    {
      "cell_type": "code",
      "source": [
        "print(f\"Sum of A and B is: {A+B}\")"
      ],
      "metadata": {
        "colab": {
          "base_uri": "https://localhost:8080/"
        },
        "id": "UEpCGu2TQPto",
        "outputId": "ff94b1b1-4307-45ce-d148-7e8003ab612b"
      },
      "execution_count": 66,
      "outputs": [
        {
          "output_type": "stream",
          "name": "stdout",
          "text": [
            "Sum of A and B is: 24\n"
          ]
        }
      ]
    },
    {
      "cell_type": "code",
      "source": [
        "int A"
      ],
      "metadata": {
        "colab": {
          "base_uri": "https://localhost:8080/",
          "height": 154
        },
        "id": "FuVGryyCQZLG",
        "outputId": "9ecdbd7b-d809-43a7-8202-10bc0091d5e6"
      },
      "execution_count": 67,
      "outputs": [
        {
          "output_type": "error",
          "ename": "SyntaxError",
          "evalue": "ignored",
          "traceback": [
            "\u001b[0;36m  File \u001b[0;32m\"<ipython-input-67-1a8d28b38f60>\"\u001b[0;36m, line \u001b[0;32m1\u001b[0m\n\u001b[0;31m    int A\u001b[0m\n\u001b[0m        ^\u001b[0m\n\u001b[0;31mSyntaxError\u001b[0m\u001b[0;31m:\u001b[0m invalid syntax\n"
          ]
        }
      ]
    },
    {
      "cell_type": "code",
      "source": [
        "A = float(input(\"Enter value of A: \"))\n",
        "B = float(input(\"Enter value of B: \"))\n",
        "\n",
        "print(f\"Sum of A and B is: {A+B}\")"
      ],
      "metadata": {
        "colab": {
          "base_uri": "https://localhost:8080/"
        },
        "id": "zc3OYDDOQUb_",
        "outputId": "49dc2181-e70e-48d8-ca9e-8ca4a22c859c"
      },
      "execution_count": 68,
      "outputs": [
        {
          "output_type": "stream",
          "name": "stdout",
          "text": [
            "Enter value of A: 12.2\n",
            "Enter value of B: 11.1\n",
            "Sum of A and B is: 23.299999999999997\n"
          ]
        }
      ]
    },
    {
      "cell_type": "code",
      "source": [
        "A = float(input(\"Enter value of A: \"))\n",
        "B = int(input(\"Enter value of B: \"))\n",
        "\n",
        "print(f\"Sum of A and B is: {A+B}\")"
      ],
      "metadata": {
        "colab": {
          "base_uri": "https://localhost:8080/"
        },
        "id": "kPe7Wv2LQiZQ",
        "outputId": "5a66ebe0-5866-4885-a2f0-9940435c9a0a"
      },
      "execution_count": 69,
      "outputs": [
        {
          "output_type": "stream",
          "name": "stdout",
          "text": [
            "Enter value of A: 12.2\n",
            "Enter value of B: 11\n",
            "Sum of A and B is: 23.2\n"
          ]
        }
      ]
    },
    {
      "cell_type": "code",
      "source": [
        "A = float(input(\"Enter value of A: \"))\n",
        "B = int(input(\"Enter value of B: \")) # 10.2 is float but converting to int\n",
        "\n",
        "print(f\"Sum of A and B is: {A+B}\")"
      ],
      "metadata": {
        "colab": {
          "base_uri": "https://localhost:8080/"
        },
        "id": "yTF1cl6YQ6Nf",
        "outputId": "7f922f13-921a-4475-b8b2-6534a01be02a"
      },
      "execution_count": 71,
      "outputs": [
        {
          "output_type": "stream",
          "name": "stdout",
          "text": [
            "Enter value of A: 12.2\n",
            "Enter value of B: 10\n",
            "Sum of A and B is: 22.2\n"
          ]
        }
      ]
    },
    {
      "cell_type": "code",
      "source": [
        "# String to integer\n",
        "A = \"50\"\n",
        "print(f\"data type before: {type(A)}, value of A: {A}\")\n",
        "A = int(A)\n",
        "print(f\"data type after: {type(A)}, value of A: {A}\")"
      ],
      "metadata": {
        "colab": {
          "base_uri": "https://localhost:8080/"
        },
        "id": "C1apIF5nRHp9",
        "outputId": "111b3d8c-3498-4268-98db-b72ce5051880"
      },
      "execution_count": 72,
      "outputs": [
        {
          "output_type": "stream",
          "name": "stdout",
          "text": [
            "data type before: <class 'str'>, value of A: 50\n",
            "data type after: <class 'int'>, value of A: 50\n"
          ]
        }
      ]
    },
    {
      "cell_type": "code",
      "source": [
        "# String to integer\n",
        "A = \"50.22\" # entering float\n",
        "print(f\"data type before: {type(A)}, value of A: {A}\")\n",
        "A = int(A) # trying to convert into integer\n",
        "print(f\"data type after: {type(A)}, value of A: {A}\")"
      ],
      "metadata": {
        "colab": {
          "base_uri": "https://localhost:8080/",
          "height": 283
        },
        "id": "ByDvYxnMRcVG",
        "outputId": "92a3398d-2b66-4cd0-e551-a028718b1dee"
      },
      "execution_count": 73,
      "outputs": [
        {
          "output_type": "stream",
          "name": "stdout",
          "text": [
            "data type before: <class 'str'>, value of A: 50.22\n"
          ]
        },
        {
          "output_type": "error",
          "ename": "ValueError",
          "evalue": "ignored",
          "traceback": [
            "\u001b[0;31m---------------------------------------------------------------------------\u001b[0m",
            "\u001b[0;31mValueError\u001b[0m                                Traceback (most recent call last)",
            "\u001b[0;32m<ipython-input-73-44a89d3a265f>\u001b[0m in \u001b[0;36m<module>\u001b[0;34m\u001b[0m\n\u001b[1;32m      2\u001b[0m \u001b[0mA\u001b[0m \u001b[0;34m=\u001b[0m \u001b[0;34m\"50.22\"\u001b[0m \u001b[0;31m# entering float\u001b[0m\u001b[0;34m\u001b[0m\u001b[0;34m\u001b[0m\u001b[0m\n\u001b[1;32m      3\u001b[0m \u001b[0mprint\u001b[0m\u001b[0;34m(\u001b[0m\u001b[0;34mf\"data type before: {type(A)}, value of A: {A}\"\u001b[0m\u001b[0;34m)\u001b[0m\u001b[0;34m\u001b[0m\u001b[0;34m\u001b[0m\u001b[0m\n\u001b[0;32m----> 4\u001b[0;31m \u001b[0mA\u001b[0m \u001b[0;34m=\u001b[0m \u001b[0mint\u001b[0m\u001b[0;34m(\u001b[0m\u001b[0mA\u001b[0m\u001b[0;34m)\u001b[0m \u001b[0;31m# trying to convert into integer\u001b[0m\u001b[0;34m\u001b[0m\u001b[0;34m\u001b[0m\u001b[0m\n\u001b[0m\u001b[1;32m      5\u001b[0m \u001b[0mprint\u001b[0m\u001b[0;34m(\u001b[0m\u001b[0;34mf\"data type after: {type(A)}, value of A: {A}\"\u001b[0m\u001b[0;34m)\u001b[0m\u001b[0;34m\u001b[0m\u001b[0;34m\u001b[0m\u001b[0m\n",
            "\u001b[0;31mValueError\u001b[0m: invalid literal for int() with base 10: '50.22'"
          ]
        }
      ]
    },
    {
      "cell_type": "code",
      "source": [
        "# float to integer\n",
        "A = 50.22\n",
        "print(f\"data type before: {type(A)}, value of A: {A}\")\n",
        "A = int(A)\n",
        "print(f\"data type after: {type(A)}, value of A: {A}\")"
      ],
      "metadata": {
        "colab": {
          "base_uri": "https://localhost:8080/"
        },
        "id": "AjJCOzPDRzkO",
        "outputId": "43668f60-ad2a-4fa0-b64b-c4479f798ca5"
      },
      "execution_count": 74,
      "outputs": [
        {
          "output_type": "stream",
          "name": "stdout",
          "text": [
            "data type before: <class 'float'>, value of A: 50.22\n",
            "data type after: <class 'int'>, value of A: 50\n"
          ]
        }
      ]
    },
    {
      "cell_type": "code",
      "source": [
        "# integer to float\n",
        "A = 50\n",
        "print(f\"data type before: {type(A)}, value of A: {A}\")\n",
        "A = float(A)\n",
        "print(f\"data type after: {type(A)}, value of A: {A}\")"
      ],
      "metadata": {
        "colab": {
          "base_uri": "https://localhost:8080/"
        },
        "id": "gBkQ44q9SPTM",
        "outputId": "94fcc6b5-a0d6-4ac7-977f-d75e0d277073"
      },
      "execution_count": 75,
      "outputs": [
        {
          "output_type": "stream",
          "name": "stdout",
          "text": [
            "data type before: <class 'int'>, value of A: 50\n",
            "data type after: <class 'float'>, value of A: 50.0\n"
          ]
        }
      ]
    },
    {
      "cell_type": "code",
      "source": [
        "# integer to boolean\n",
        "A = 10\n",
        "print(f\"data type before: {type(A)}, value of A: {A}\")\n",
        "A = bool(A)\n",
        "print(f\"data type after: {type(A)}, value of A: {A}\")"
      ],
      "metadata": {
        "colab": {
          "base_uri": "https://localhost:8080/"
        },
        "id": "96BXUnWNTKU4",
        "outputId": "b1fb74bc-0e9e-4ae0-c369-4928593a063e"
      },
      "execution_count": 76,
      "outputs": [
        {
          "output_type": "stream",
          "name": "stdout",
          "text": [
            "data type before: <class 'int'>, value of A: 10\n",
            "data type after: <class 'bool'>, value of A: True\n"
          ]
        }
      ]
    },
    {
      "cell_type": "markdown",
      "source": [
        "* True in binary - 1 \n",
        "* False in binary - 0 "
      ],
      "metadata": {
        "id": "3VIia2DHdtWW"
      }
    },
    {
      "cell_type": "code",
      "source": [
        "# integer to boolean\n",
        "A = 0\n",
        "print(f\"data type before: {type(A)}, value of A: {A}\")\n",
        "A = bool(A)\n",
        "print(f\"data type after: {type(A)}, value of A: {A}\")"
      ],
      "metadata": {
        "colab": {
          "base_uri": "https://localhost:8080/"
        },
        "id": "4gw2DntcTZFs",
        "outputId": "cc5a45fd-5d8b-4758-c199-1fbaf9c1f8f7"
      },
      "execution_count": 77,
      "outputs": [
        {
          "output_type": "stream",
          "name": "stdout",
          "text": [
            "data type before: <class 'int'>, value of A: 0\n",
            "data type after: <class 'bool'>, value of A: False\n"
          ]
        }
      ]
    },
    {
      "cell_type": "code",
      "source": [
        "# integer to boolean\n",
        "A = 1\n",
        "print(f\"data type before: {type(A)}, value of A: {A}\")\n",
        "A = bool(A)\n",
        "print(f\"data type after: {type(A)}, value of A: {A}\")"
      ],
      "metadata": {
        "colab": {
          "base_uri": "https://localhost:8080/"
        },
        "id": "6b-tRTdcd_El",
        "outputId": "784e018c-788a-4574-e944-7f1558016f80"
      },
      "execution_count": 78,
      "outputs": [
        {
          "output_type": "stream",
          "name": "stdout",
          "text": [
            "data type before: <class 'int'>, value of A: 1\n",
            "data type after: <class 'bool'>, value of A: True\n"
          ]
        }
      ]
    },
    {
      "cell_type": "markdown",
      "source": [
        "> NOTE: Converting any non zero number and string values into boolean will give True as an answer\n",
        "\n",
        "> NOTE: Empty string \"\" will give False as an answer after converting from string to boolean"
      ],
      "metadata": {
        "id": "SZjpDsr9eDhL"
      }
    },
    {
      "cell_type": "code",
      "source": [
        "# integer to boolean\n",
        "A = -5\n",
        "print(f\"data type before: {type(A)}, value of A: {A}\")\n",
        "A = bool(A)\n",
        "print(f\"data type after: {type(A)}, value of A: {A}\")"
      ],
      "metadata": {
        "colab": {
          "base_uri": "https://localhost:8080/"
        },
        "id": "MsoaPr7ZTjF0",
        "outputId": "4340a96a-e1b8-422e-8b31-3133368ee3ab"
      },
      "execution_count": 79,
      "outputs": [
        {
          "output_type": "stream",
          "name": "stdout",
          "text": [
            "data type before: <class 'int'>, value of A: -5\n",
            "data type after: <class 'bool'>, value of A: True\n"
          ]
        }
      ]
    },
    {
      "cell_type": "code",
      "source": [
        "# string to boolean\n",
        "A = \"Abhisheek\"\n",
        "print(f\"data type before: {type(A)}, value of A: {A}\")\n",
        "A = bool(A)\n",
        "print(f\"data type after: {type(A)}, value of A: {A}\")"
      ],
      "metadata": {
        "colab": {
          "base_uri": "https://localhost:8080/"
        },
        "id": "NHOsKHaBTsME",
        "outputId": "bf2fd7ca-c054-4d9f-93b1-4f774e965d97"
      },
      "execution_count": 81,
      "outputs": [
        {
          "output_type": "stream",
          "name": "stdout",
          "text": [
            "data type before: <class 'str'>, value of A: Abhisheek\n",
            "data type after: <class 'bool'>, value of A: True\n"
          ]
        }
      ]
    },
    {
      "cell_type": "code",
      "source": [
        "# string to boolean\n",
        "A = \"True\"\n",
        "print(f\"data type before: {type(A)}, value of A: {A}\")\n",
        "A = bool(A)\n",
        "print(f\"data type after: {type(A)}, value of A: {A}\")"
      ],
      "metadata": {
        "colab": {
          "base_uri": "https://localhost:8080/"
        },
        "id": "g_edyuK3T4Lk",
        "outputId": "d687ebcd-2e8b-492b-b2ed-564f9b57ae3b"
      },
      "execution_count": 82,
      "outputs": [
        {
          "output_type": "stream",
          "name": "stdout",
          "text": [
            "data type before: <class 'str'>, value of A: True\n",
            "data type after: <class 'bool'>, value of A: True\n"
          ]
        }
      ]
    },
    {
      "cell_type": "code",
      "source": [
        "# string to boolean\n",
        "A = \"False\"\n",
        "print(f\"data type before: {type(A)}, value of A: {A}\")\n",
        "A = bool(A)\n",
        "print(f\"data type after: {type(A)}, value of A: {A}\")"
      ],
      "metadata": {
        "colab": {
          "base_uri": "https://localhost:8080/"
        },
        "id": "-SyPV5NQT7Sb",
        "outputId": "2d15d0ae-1817-444a-a48c-f4e17774fe80"
      },
      "execution_count": 83,
      "outputs": [
        {
          "output_type": "stream",
          "name": "stdout",
          "text": [
            "data type before: <class 'str'>, value of A: False\n",
            "data type after: <class 'bool'>, value of A: True\n"
          ]
        }
      ]
    },
    {
      "cell_type": "code",
      "source": [
        "# empty string to boolean\n",
        "A = \"\"\n",
        "print(f\"data type before: {type(A)}, value of A: {A}\")\n",
        "A = bool(A)\n",
        "print(f\"data type after: {type(A)}, value of A: {A}\")"
      ],
      "metadata": {
        "colab": {
          "base_uri": "https://localhost:8080/"
        },
        "id": "jzrNtmpzT-D9",
        "outputId": "a4b25597-c125-4b00-ef21-a13d1bac4b4e"
      },
      "execution_count": 84,
      "outputs": [
        {
          "output_type": "stream",
          "name": "stdout",
          "text": [
            "data type before: <class 'str'>, value of A: \n",
            "data type after: <class 'bool'>, value of A: False\n"
          ]
        }
      ]
    },
    {
      "cell_type": "code",
      "source": [
        "# empty string to boolean\n",
        "A = \" \"\n",
        "print(f\"data type before: {type(A)}, value of A: {A}\")\n",
        "A = bool(A)\n",
        "print(f\"data type after: {type(A)}, value of A: {A}\")"
      ],
      "metadata": {
        "colab": {
          "base_uri": "https://localhost:8080/"
        },
        "id": "Jm9kqqP0exZ1",
        "outputId": "0cd88c19-bfb5-4d56-cc8a-eb6eb0aaddc8"
      },
      "execution_count": 87,
      "outputs": [
        {
          "output_type": "stream",
          "name": "stdout",
          "text": [
            "data type before: <class 'str'>, value of A:  \n",
            "data type after: <class 'bool'>, value of A: True\n"
          ]
        }
      ]
    },
    {
      "cell_type": "code",
      "source": [
        "# empty string to int\n",
        "A = \"\"\n",
        "print(f\"data type before: {type(A)}, value of A: {A}\")\n",
        "A = int(A)\n",
        "print(f\"data type after: {type(A)}, value of A: {A}\")"
      ],
      "metadata": {
        "colab": {
          "base_uri": "https://localhost:8080/",
          "height": 283
        },
        "id": "PJshzz66UJN9",
        "outputId": "20a909eb-7b0a-4649-e258-49bce1249577"
      },
      "execution_count": 88,
      "outputs": [
        {
          "output_type": "stream",
          "name": "stdout",
          "text": [
            "data type before: <class 'str'>, value of A: \n"
          ]
        },
        {
          "output_type": "error",
          "ename": "ValueError",
          "evalue": "ignored",
          "traceback": [
            "\u001b[0;31m---------------------------------------------------------------------------\u001b[0m",
            "\u001b[0;31mValueError\u001b[0m                                Traceback (most recent call last)",
            "\u001b[0;32m<ipython-input-88-a8248b2f88e9>\u001b[0m in \u001b[0;36m<module>\u001b[0;34m\u001b[0m\n\u001b[1;32m      2\u001b[0m \u001b[0mA\u001b[0m \u001b[0;34m=\u001b[0m \u001b[0;34m\"\"\u001b[0m\u001b[0;34m\u001b[0m\u001b[0;34m\u001b[0m\u001b[0m\n\u001b[1;32m      3\u001b[0m \u001b[0mprint\u001b[0m\u001b[0;34m(\u001b[0m\u001b[0;34mf\"data type before: {type(A)}, value of A: {A}\"\u001b[0m\u001b[0;34m)\u001b[0m\u001b[0;34m\u001b[0m\u001b[0;34m\u001b[0m\u001b[0m\n\u001b[0;32m----> 4\u001b[0;31m \u001b[0mA\u001b[0m \u001b[0;34m=\u001b[0m \u001b[0mint\u001b[0m\u001b[0;34m(\u001b[0m\u001b[0mA\u001b[0m\u001b[0;34m)\u001b[0m\u001b[0;34m\u001b[0m\u001b[0;34m\u001b[0m\u001b[0m\n\u001b[0m\u001b[1;32m      5\u001b[0m \u001b[0mprint\u001b[0m\u001b[0;34m(\u001b[0m\u001b[0;34mf\"data type after: {type(A)}, value of A: {A}\"\u001b[0m\u001b[0;34m)\u001b[0m\u001b[0;34m\u001b[0m\u001b[0;34m\u001b[0m\u001b[0m\n",
            "\u001b[0;31mValueError\u001b[0m: invalid literal for int() with base 10: ''"
          ]
        }
      ]
    },
    {
      "cell_type": "markdown",
      "source": [
        "## Memory block "
      ],
      "metadata": {
        "id": "Yrovx8L4foKL"
      }
    },
    {
      "cell_type": "code",
      "source": [
        "a = 22\n",
        "b = 34\n",
        "c = 22 "
      ],
      "metadata": {
        "id": "zovkAE5uUX7C"
      },
      "execution_count": 89,
      "outputs": []
    },
    {
      "cell_type": "code",
      "source": [
        "id(a) # memory address"
      ],
      "metadata": {
        "colab": {
          "base_uri": "https://localhost:8080/"
        },
        "id": "iB_Yf-XwfskJ",
        "outputId": "33289a01-4df8-4e40-8182-21dbe68b7cab"
      },
      "execution_count": 90,
      "outputs": [
        {
          "output_type": "execute_result",
          "data": {
            "text/plain": [
              "9793760"
            ]
          },
          "metadata": {},
          "execution_count": 90
        }
      ]
    },
    {
      "cell_type": "code",
      "source": [
        "id(b)"
      ],
      "metadata": {
        "colab": {
          "base_uri": "https://localhost:8080/"
        },
        "id": "2QhbJnLbfvWp",
        "outputId": "5a6e8688-c224-4cef-8eb7-000b402ec8cc"
      },
      "execution_count": 91,
      "outputs": [
        {
          "output_type": "execute_result",
          "data": {
            "text/plain": [
              "9794144"
            ]
          },
          "metadata": {},
          "execution_count": 91
        }
      ]
    },
    {
      "cell_type": "code",
      "source": [
        "id(c)"
      ],
      "metadata": {
        "colab": {
          "base_uri": "https://localhost:8080/"
        },
        "id": "mLxiOUf_fyAa",
        "outputId": "5a5569db-8aa7-44f6-92f0-d0071cb58d6a"
      },
      "execution_count": 92,
      "outputs": [
        {
          "output_type": "execute_result",
          "data": {
            "text/plain": [
              "9793760"
            ]
          },
          "metadata": {},
          "execution_count": 92
        }
      ]
    },
    {
      "cell_type": "code",
      "source": [
        "c = 22 + b"
      ],
      "metadata": {
        "id": "V_ebhqVQf02g"
      },
      "execution_count": 93,
      "outputs": []
    },
    {
      "cell_type": "code",
      "source": [
        "id(c)"
      ],
      "metadata": {
        "colab": {
          "base_uri": "https://localhost:8080/"
        },
        "id": "FRDxDQ7GgIfR",
        "outputId": "0ff5dea0-957e-45bc-be9d-bb2869548dc7"
      },
      "execution_count": 94,
      "outputs": [
        {
          "output_type": "execute_result",
          "data": {
            "text/plain": [
              "9794848"
            ]
          },
          "metadata": {},
          "execution_count": 94
        }
      ]
    },
    {
      "cell_type": "code",
      "source": [
        "a = 22\n",
        "id(a)"
      ],
      "metadata": {
        "colab": {
          "base_uri": "https://localhost:8080/"
        },
        "id": "fNd2dcHmgJtQ",
        "outputId": "3c9fcbda-88f7-45da-b1be-ceda42ad1ccf"
      },
      "execution_count": 95,
      "outputs": [
        {
          "output_type": "execute_result",
          "data": {
            "text/plain": [
              "9793760"
            ]
          },
          "metadata": {},
          "execution_count": 95
        }
      ]
    },
    {
      "cell_type": "code",
      "source": [
        "a = 99\n",
        "id(a)"
      ],
      "metadata": {
        "colab": {
          "base_uri": "https://localhost:8080/"
        },
        "id": "FWStSij2gSep",
        "outputId": "c004d7e4-17f1-4e2b-8231-6f5df7e58ae8"
      },
      "execution_count": 96,
      "outputs": [
        {
          "output_type": "execute_result",
          "data": {
            "text/plain": [
              "9796224"
            ]
          },
          "metadata": {},
          "execution_count": 96
        }
      ]
    },
    {
      "cell_type": "markdown",
      "source": [
        "Memory is assigned to the value of variable passed not the variable name"
      ],
      "metadata": {
        "id": "2JUt0VhygXaE"
      }
    },
    {
      "cell_type": "code",
      "source": [
        "a = 22\n",
        "b = 34\n",
        "c = 22 \n",
        "\n",
        "print(id(a), id(b), id(c))"
      ],
      "metadata": {
        "colab": {
          "base_uri": "https://localhost:8080/"
        },
        "id": "M8M8grQHgU_R",
        "outputId": "76dc665a-6798-4304-c2be-3d5956356080"
      },
      "execution_count": 97,
      "outputs": [
        {
          "output_type": "stream",
          "name": "stdout",
          "text": [
            "9793760 9794144 9793760\n"
          ]
        }
      ]
    },
    {
      "cell_type": "code",
      "source": [
        "a = \"Abhisheek\"\n",
        "b = 34\n",
        "c = \"Abhisheek\"\n",
        "\n",
        "print(id(a), id(b), id(c))"
      ],
      "metadata": {
        "colab": {
          "base_uri": "https://localhost:8080/"
        },
        "id": "h2Oo_lIGgiZZ",
        "outputId": "df89f653-fe7f-488d-a265-af3b481197e9"
      },
      "execution_count": 99,
      "outputs": [
        {
          "output_type": "stream",
          "name": "stdout",
          "text": [
            "139950602436080 9794144 139950602436080\n"
          ]
        }
      ]
    },
    {
      "cell_type": "code",
      "source": [
        "a = \"A\"\n",
        "b = 34\n",
        "c = \"A\"\n",
        "\n",
        "print(id(a), id(b), id(c))"
      ],
      "metadata": {
        "colab": {
          "base_uri": "https://localhost:8080/"
        },
        "id": "dudmdbuAg9kh",
        "outputId": "786df275-b9f7-4cfb-b689-2ffcea36d8e4"
      },
      "execution_count": 100,
      "outputs": [
        {
          "output_type": "stream",
          "name": "stdout",
          "text": [
            "139951151767728 9794144 139951151767728\n"
          ]
        }
      ]
    },
    {
      "cell_type": "code",
      "source": [
        "a = 22\n",
        "b = 34\n",
        "c = 22.0 \n",
        "\n",
        "print(id(a), id(b), id(c))"
      ],
      "metadata": {
        "colab": {
          "base_uri": "https://localhost:8080/"
        },
        "id": "JQKAen5UhROg",
        "outputId": "b42b77b2-eaa3-444d-90c8-71861fd79763"
      },
      "execution_count": 101,
      "outputs": [
        {
          "output_type": "stream",
          "name": "stdout",
          "text": [
            "9793760 9794144 139950171450736\n"
          ]
        }
      ]
    },
    {
      "cell_type": "markdown",
      "source": [
        "# LIVE DOUBTS"
      ],
      "metadata": {
        "id": "pdueleDErBew"
      }
    },
    {
      "cell_type": "code",
      "source": [
        "name = input(\"Name: \")\n",
        "YOB = int(input(\"YOB: \")) # string\n",
        "\n",
        "age = 2022 - YOB\n",
        "print(age)\n"
      ],
      "metadata": {
        "colab": {
          "base_uri": "https://localhost:8080/"
        },
        "id": "XwptODKahZkR",
        "outputId": "2baa348c-a850-4e9c-8e06-86124f2ae6e4"
      },
      "execution_count": 102,
      "outputs": [
        {
          "output_type": "stream",
          "name": "stdout",
          "text": [
            "Name: Abhisheek\n",
            "YOB: 1996\n",
            "26\n"
          ]
        }
      ]
    },
    {
      "cell_type": "markdown",
      "source": [
        "# ASSIGNMENTS - NOT compulsory but usefull!!\n",
        "# I am not at loss if you don't submit\n",
        "## send the mail to \n",
        "## send it before 0000 hrs IST | 12 AM tonight\n",
        "## Special cases respond atleast before 1200 hrs IST tomorrow i.e Monday\n",
        "\n",
        "TO: query@ineuron.ai\n",
        "CC: sunny@ineuron.ai, riishav@ineuron.ai, boktiar@ineuron.ai\n",
        " \n",
        "Subject: [Bootcamp 2.0 | Assignment No. 1]: \n",
        "\n",
        "1. Find out all the types of error that we have encountered in our lecture and why? Also include the examples.\n",
        "2. Take input A and B and print their sum, mul, div, square of the nos.\n",
        "3. How many reserve keywords are there in python and why we should not use them as a variable name.\n",
        "4. Create email ids with the user inputs. in the following format - \n",
        "lastname.firstname@gmail.com\n",
        "5. Try to print the following lines - \n",
        "  - Hi I'm Sunny\n",
        "  - My address is 22\\3 \n",
        "  - I earn 20$ daily.\n",
        "6. Take user input (name, address, date of birth etc) to fill a form for your college and print their email IDs\n",
        "7. Convert the following - \n",
        "  - \"22.4\" into integer\n",
        "  - \"22\" into complex no.\n"
      ],
      "metadata": {
        "id": "YFfbdZzEiEKX"
      }
    },
    {
      "cell_type": "code",
      "source": [
        "#Q:2- Ans:\n",
        "\n",
        "A = int(input(\"Enter the first number: \"))\n",
        "B = int(input(\"Enter the second number: \"))\n",
        "\n",
        "print(f\"Sum of A and B is: {A+B}\")\n",
        "print(f\"Multiplication of A and B is: {A*B}\")\n",
        "print(f\"Division of A and B is: {A/B}\")\n",
        "print(f\"Square of A and B is: {A **2}  and {B **2} \" )"
      ],
      "metadata": {
        "colab": {
          "base_uri": "https://localhost:8080/"
        },
        "id": "PBJbertGhPXU",
        "outputId": "68de4de6-86e7-4501-9bc5-bc2c434fc410"
      },
      "execution_count": 121,
      "outputs": [
        {
          "output_type": "stream",
          "name": "stdout",
          "text": [
            "Enter the first number: 12\n",
            "Enter the second number: 13\n",
            "Sum of A and B is: 25\n",
            "Multiplication of A and B is: 156\n",
            "Division of A and B is: 0.9230769230769231\n",
            "Square of A and B is: 144  and 169 \n"
          ]
        }
      ]
    },
    {
      "cell_type": "code",
      "source": [
        "#Q:4- Ans:\n",
        "\n",
        "lastName = input(\"Enter the lastName: \")\n",
        "fisrtName = input(\"Enter the firstName: \")\n",
        "\n",
        "print(f\"My email ID is: {lastName}.{firstName}@gmail.com\")"
      ],
      "metadata": {
        "colab": {
          "base_uri": "https://localhost:8080/"
        },
        "id": "HxJ4PkfEkBvi",
        "outputId": "7d96fe8c-41be-45ae-c784-729466342bde"
      },
      "execution_count": 131,
      "outputs": [
        {
          "output_type": "stream",
          "name": "stdout",
          "text": [
            "Enter the lastName: Dutta\n",
            "Enter the firstName: Abhisheek\n",
            "My email ID is: Dutta.Abhisheek@gmail.com\n"
          ]
        }
      ]
    },
    {
      "cell_type": "code",
      "source": [
        "#Q:5- Ans:\n",
        "\n",
        "Name= \"Hi ! I am Sunny\"\n",
        "Address = \"My address is 22 \\ 3\"\n",
        "Earning = \"I earn 20$ daily\"\n",
        "\n",
        "print(f\"\"\"\n",
        "{Name}\n",
        "{Address}\n",
        "{Earning}\n",
        "\"\"\")"
      ],
      "metadata": {
        "colab": {
          "base_uri": "https://localhost:8080/"
        },
        "id": "pSRV7Ko8lLWU",
        "outputId": "8ed90975-f634-4da0-e839-f7aa117e4d09"
      },
      "execution_count": 142,
      "outputs": [
        {
          "output_type": "stream",
          "name": "stdout",
          "text": [
            "\n",
            "Hi ! I am Sunny\n",
            "My address is 22 \\ 3\n",
            "I earn 20$ daily\n",
            "\n"
          ]
        }
      ]
    },
    {
      "cell_type": "code",
      "source": [
        "#Q:6- Ans:\n",
        "\n",
        "Name = input(\"Name: \")\n",
        "Address = input(\"Address: \")\n",
        "DOB= int(input(\"DOB: \"))\n",
        "\n",
        "Age = 2023 - DOB\n",
        "\n",
        "print(f\"\"\"\n",
        "My name is: {Name}\n",
        "I live in: {Address}\n",
        "{Name} is of age: {Age}\n",
        "\"\"\")"
      ],
      "metadata": {
        "colab": {
          "base_uri": "https://localhost:8080/"
        },
        "id": "Dflo1McTnIe9",
        "outputId": "31078acc-c298-400a-e734-825270cd2a22"
      },
      "execution_count": 148,
      "outputs": [
        {
          "output_type": "stream",
          "name": "stdout",
          "text": [
            "Name: Abhisheek Dutta\n",
            "Address: Kadma, Jamshedpur\n",
            "DOB: 1996\n",
            "\n",
            "My name is: Abhisheek Dutta\n",
            "I live in: Kadma, Jamshedpur\n",
            "Abhisheek Dutta is of age: 27\n",
            "\n"
          ]
        }
      ]
    },
    {
      "cell_type": "code",
      "source": [
        "#Q:7- I. Ans:\n",
        "\n",
        "A = \"22.4\"\n",
        "print(f\"data type before: {type(A)}, value of A: {A}\")\n",
        "A = int(A)\n",
        "print(f\"data type after: {type(A)}, value of A: {A}\")"
      ],
      "metadata": {
        "colab": {
          "base_uri": "https://localhost:8080/",
          "height": 283
        },
        "id": "IgRI_E6SqRyt",
        "outputId": "e366fd9a-dd80-4bfa-86cc-ab6fbfb5fd8b"
      },
      "execution_count": 149,
      "outputs": [
        {
          "output_type": "stream",
          "name": "stdout",
          "text": [
            "data type before: <class 'str'>, value of A: 22.4\n"
          ]
        },
        {
          "output_type": "error",
          "ename": "ValueError",
          "evalue": "ignored",
          "traceback": [
            "\u001b[0;31m---------------------------------------------------------------------------\u001b[0m",
            "\u001b[0;31mValueError\u001b[0m                                Traceback (most recent call last)",
            "\u001b[0;32m<ipython-input-149-2ee33d4def87>\u001b[0m in \u001b[0;36m<module>\u001b[0;34m\u001b[0m\n\u001b[1;32m      3\u001b[0m \u001b[0mA\u001b[0m \u001b[0;34m=\u001b[0m \u001b[0;34m\"22.4\"\u001b[0m\u001b[0;34m\u001b[0m\u001b[0;34m\u001b[0m\u001b[0m\n\u001b[1;32m      4\u001b[0m \u001b[0mprint\u001b[0m\u001b[0;34m(\u001b[0m\u001b[0;34mf\"data type before: {type(A)}, value of A: {A}\"\u001b[0m\u001b[0;34m)\u001b[0m\u001b[0;34m\u001b[0m\u001b[0;34m\u001b[0m\u001b[0m\n\u001b[0;32m----> 5\u001b[0;31m \u001b[0mA\u001b[0m \u001b[0;34m=\u001b[0m \u001b[0mint\u001b[0m\u001b[0;34m(\u001b[0m\u001b[0mA\u001b[0m\u001b[0;34m)\u001b[0m\u001b[0;34m\u001b[0m\u001b[0;34m\u001b[0m\u001b[0m\n\u001b[0m\u001b[1;32m      6\u001b[0m \u001b[0mprint\u001b[0m\u001b[0;34m(\u001b[0m\u001b[0;34mf\"data type after: {type(A)}, value of A: {A}\"\u001b[0m\u001b[0;34m)\u001b[0m\u001b[0;34m\u001b[0m\u001b[0;34m\u001b[0m\u001b[0m\n",
            "\u001b[0;31mValueError\u001b[0m: invalid literal for int() with base 10: '22.4'"
          ]
        }
      ]
    },
    {
      "cell_type": "code",
      "source": [
        "#Q:7- II. Ans:\n",
        "\n",
        "A = \"22\"\n",
        "print(f\"data type before: {type(A)}, value of A: {A}\")\n",
        "A = complex(A)\n",
        "print(f\"data type after: {type(A)}, value of A: {A}\")"
      ],
      "metadata": {
        "colab": {
          "base_uri": "https://localhost:8080/"
        },
        "id": "kuNVkT3Gqlkj",
        "outputId": "5bc6d97f-d6de-4566-996c-acade4d3024e"
      },
      "execution_count": 150,
      "outputs": [
        {
          "output_type": "stream",
          "name": "stdout",
          "text": [
            "data type before: <class 'str'>, value of A: 22\n",
            "data type after: <class 'complex'>, value of A: (22+0j)\n"
          ]
        }
      ]
    },
    {
      "cell_type": "code",
      "source": [
        "x = input(\"Enter the value of x: \")"
      ],
      "metadata": {
        "colab": {
          "base_uri": "https://localhost:8080/"
        },
        "id": "nVPPLwPBp6hx",
        "outputId": "bd24915b-408e-4743-b1e6-53321be9fb59"
      },
      "execution_count": 146,
      "outputs": [
        {
          "name": "stdout",
          "output_type": "stream",
          "text": [
            "Enter the value of x: 22.2\n"
          ]
        }
      ]
    },
    {
      "cell_type": "code",
      "source": [
        "x =  22.2\n",
        "bool(x)"
      ],
      "metadata": {
        "colab": {
          "base_uri": "https://localhost:8080/"
        },
        "id": "nyhnkKcmt8pV",
        "outputId": "4e2371fa-dcd9-4748-ce69-e57b1714f8aa"
      },
      "execution_count": 105,
      "outputs": [
        {
          "output_type": "execute_result",
          "data": {
            "text/plain": [
              "True"
            ]
          },
          "metadata": {},
          "execution_count": 105
        }
      ]
    },
    {
      "cell_type": "code",
      "source": [
        "x =  22\n",
        "bool(x)"
      ],
      "metadata": {
        "colab": {
          "base_uri": "https://localhost:8080/"
        },
        "id": "wu9VOhZAuYwc",
        "outputId": "b3df9236-83f4-4045-cd1a-eb098dee0640"
      },
      "execution_count": 106,
      "outputs": [
        {
          "output_type": "execute_result",
          "data": {
            "text/plain": [
              "True"
            ]
          },
          "metadata": {},
          "execution_count": 106
        }
      ]
    },
    {
      "cell_type": "code",
      "source": [
        "x =  0.0\n",
        "bool(x)"
      ],
      "metadata": {
        "colab": {
          "base_uri": "https://localhost:8080/"
        },
        "id": "bVAdoAUguJlE",
        "outputId": "77ffc1f4-9761-41a1-de2a-45abfb99e568"
      },
      "execution_count": 107,
      "outputs": [
        {
          "output_type": "execute_result",
          "data": {
            "text/plain": [
              "False"
            ]
          },
          "metadata": {},
          "execution_count": 107
        }
      ]
    },
    {
      "cell_type": "code",
      "source": [
        "x =  0\n",
        "bool(x)"
      ],
      "metadata": {
        "colab": {
          "base_uri": "https://localhost:8080/"
        },
        "id": "URRVxvzFuac7",
        "outputId": "6eb1e960-6981-4f75-8160-2b9b8108543d"
      },
      "execution_count": 108,
      "outputs": [
        {
          "output_type": "execute_result",
          "data": {
            "text/plain": [
              "False"
            ]
          },
          "metadata": {},
          "execution_count": 108
        }
      ]
    },
    {
      "cell_type": "code",
      "source": [
        "x =  -22\n",
        "bool(x)"
      ],
      "metadata": {
        "colab": {
          "base_uri": "https://localhost:8080/"
        },
        "id": "cllGk72_udVQ",
        "outputId": "6908f88a-8a39-4614-bd12-9adbf336109e"
      },
      "execution_count": 109,
      "outputs": [
        {
          "output_type": "execute_result",
          "data": {
            "text/plain": [
              "True"
            ]
          },
          "metadata": {},
          "execution_count": 109
        }
      ]
    },
    {
      "cell_type": "code",
      "source": [
        "x =  -22.2\n",
        "bool(x)"
      ],
      "metadata": {
        "colab": {
          "base_uri": "https://localhost:8080/"
        },
        "id": "sLYTo93xuLi1",
        "outputId": "af2c4272-b33c-46ee-ec46-2ef578a2f671"
      },
      "execution_count": 110,
      "outputs": [
        {
          "output_type": "execute_result",
          "data": {
            "text/plain": [
              "True"
            ]
          },
          "metadata": {},
          "execution_count": 110
        }
      ]
    },
    {
      "cell_type": "code",
      "source": [
        "i_have_a_doubt = input(\"yes? \")\n",
        "bool(i_have_a_doubt)"
      ],
      "metadata": {
        "colab": {
          "base_uri": "https://localhost:8080/"
        },
        "id": "G_uMBRMcuN2U",
        "outputId": "6a2d72bb-180f-44ab-f17b-748894e83e04"
      },
      "execution_count": 112,
      "outputs": [
        {
          "name": "stdout",
          "output_type": "stream",
          "text": [
            "yes? no\n"
          ]
        },
        {
          "output_type": "execute_result",
          "data": {
            "text/plain": [
              "True"
            ]
          },
          "metadata": {},
          "execution_count": 112
        }
      ]
    },
    {
      "cell_type": "code",
      "source": [
        "i_have_a_doubt = input(\"yes? \")\n",
        "bool(i_have_a_doubt)"
      ],
      "metadata": {
        "colab": {
          "base_uri": "https://localhost:8080/"
        },
        "id": "uJAJ9DTBvAwk",
        "outputId": "57f3ceff-cec0-418a-f878-97ec4361e076"
      },
      "execution_count": 159,
      "outputs": [
        {
          "name": "stdout",
          "output_type": "stream",
          "text": [
            "yes? no\n"
          ]
        },
        {
          "output_type": "execute_result",
          "data": {
            "text/plain": [
              "True"
            ]
          },
          "metadata": {},
          "execution_count": 159
        }
      ]
    },
    {
      "cell_type": "code",
      "source": [
        "25.88 + 10"
      ],
      "metadata": {
        "colab": {
          "base_uri": "https://localhost:8080/"
        },
        "id": "6yIsF6YCvEIc",
        "outputId": "44eb564f-3f29-42f5-c41f-139fd0b2fcd8"
      },
      "execution_count": 160,
      "outputs": [
        {
          "output_type": "execute_result",
          "data": {
            "text/plain": [
              "35.879999999999995"
            ]
          },
          "metadata": {},
          "execution_count": 160
        }
      ]
    },
    {
      "cell_type": "code",
      "source": [
        "round(25.88 + 10, 2)"
      ],
      "metadata": {
        "colab": {
          "base_uri": "https://localhost:8080/"
        },
        "id": "38wz0T4UzzOi",
        "outputId": "863d516f-ad36-4e41-db27-cfd331cc35a5"
      },
      "execution_count": 155,
      "outputs": [
        {
          "output_type": "execute_result",
          "data": {
            "text/plain": [
              "35.88"
            ]
          },
          "metadata": {},
          "execution_count": 155
        }
      ]
    },
    {
      "cell_type": "code",
      "source": [
        "round(25.88 + 10)"
      ],
      "metadata": {
        "colab": {
          "base_uri": "https://localhost:8080/"
        },
        "id": "5NYKONqLrGUJ",
        "outputId": "470138f1-2841-4751-c9b4-8ccc98ed3e92"
      },
      "execution_count": 157,
      "outputs": [
        {
          "output_type": "execute_result",
          "data": {
            "text/plain": [
              "36"
            ]
          },
          "metadata": {},
          "execution_count": 157
        }
      ]
    },
    {
      "cell_type": "code",
      "source": [
        "25.89 + 10"
      ],
      "metadata": {
        "colab": {
          "base_uri": "https://localhost:8080/"
        },
        "id": "wo0wQmdk0LbP",
        "outputId": "4a3fde50-8eac-45d9-a550-43be7cff244f"
      },
      "execution_count": 156,
      "outputs": [
        {
          "output_type": "execute_result",
          "data": {
            "text/plain": [
              "35.89"
            ]
          },
          "metadata": {},
          "execution_count": 156
        }
      ]
    },
    {
      "cell_type": "code",
      "source": [
        "def sum_of_values(x, y):\n",
        "  print(x+y)\n",
        "\n",
        "sum_of_values(22.2, 33)"
      ],
      "metadata": {
        "colab": {
          "base_uri": "https://localhost:8080/"
        },
        "id": "lt3q9hVxxTmC",
        "outputId": "c776745b-efc7-48c0-a827-272a37166d50"
      },
      "execution_count": 161,
      "outputs": [
        {
          "output_type": "stream",
          "name": "stdout",
          "text": [
            "55.2\n"
          ]
        }
      ]
    },
    {
      "cell_type": "code",
      "source": [
        "def sum_of_values(x, y):\n",
        "  print(x+y)\n",
        "\n",
        "sum_of_values(22.2, 33, 444)"
      ],
      "metadata": {
        "colab": {
          "base_uri": "https://localhost:8080/",
          "height": 240
        },
        "id": "nOO4zZpJ1H0v",
        "outputId": "51c9298a-a109-4d75-c2cc-633c6359a48b"
      },
      "execution_count": 162,
      "outputs": [
        {
          "output_type": "error",
          "ename": "TypeError",
          "evalue": "ignored",
          "traceback": [
            "\u001b[0;31m---------------------------------------------------------------------------\u001b[0m",
            "\u001b[0;31mTypeError\u001b[0m                                 Traceback (most recent call last)",
            "\u001b[0;32m<ipython-input-162-78d1f071c089>\u001b[0m in \u001b[0;36m<module>\u001b[0;34m\u001b[0m\n\u001b[1;32m      2\u001b[0m   \u001b[0mprint\u001b[0m\u001b[0;34m(\u001b[0m\u001b[0mx\u001b[0m\u001b[0;34m+\u001b[0m\u001b[0my\u001b[0m\u001b[0;34m)\u001b[0m\u001b[0;34m\u001b[0m\u001b[0;34m\u001b[0m\u001b[0m\n\u001b[1;32m      3\u001b[0m \u001b[0;34m\u001b[0m\u001b[0m\n\u001b[0;32m----> 4\u001b[0;31m \u001b[0msum_of_values\u001b[0m\u001b[0;34m(\u001b[0m\u001b[0;36m22.2\u001b[0m\u001b[0;34m,\u001b[0m \u001b[0;36m33\u001b[0m\u001b[0;34m,\u001b[0m \u001b[0;36m444\u001b[0m\u001b[0;34m)\u001b[0m\u001b[0;34m\u001b[0m\u001b[0;34m\u001b[0m\u001b[0m\n\u001b[0m",
            "\u001b[0;31mTypeError\u001b[0m: sum_of_values() takes 2 positional arguments but 3 were given"
          ]
        }
      ]
    },
    {
      "cell_type": "code",
      "source": [
        "def sum_of_values(x, y):\n",
        "  print(x+y)\n",
        "\n",
        "sum_of_values(22.2, \"33\")"
      ],
      "metadata": {
        "colab": {
          "base_uri": "https://localhost:8080/",
          "height": 368
        },
        "id": "Me1CQwHtxYGw",
        "outputId": "ad0bac46-625c-4b85-d917-741bc635214e"
      },
      "execution_count": 163,
      "outputs": [
        {
          "output_type": "error",
          "ename": "TypeError",
          "evalue": "ignored",
          "traceback": [
            "\u001b[0;31m---------------------------------------------------------------------------\u001b[0m",
            "\u001b[0;31mTypeError\u001b[0m                                 Traceback (most recent call last)",
            "\u001b[0;32m<ipython-input-163-36d9de65b708>\u001b[0m in \u001b[0;36m<module>\u001b[0;34m\u001b[0m\n\u001b[1;32m      2\u001b[0m   \u001b[0mprint\u001b[0m\u001b[0;34m(\u001b[0m\u001b[0mx\u001b[0m\u001b[0;34m+\u001b[0m\u001b[0my\u001b[0m\u001b[0;34m)\u001b[0m\u001b[0;34m\u001b[0m\u001b[0;34m\u001b[0m\u001b[0m\n\u001b[1;32m      3\u001b[0m \u001b[0;34m\u001b[0m\u001b[0m\n\u001b[0;32m----> 4\u001b[0;31m \u001b[0msum_of_values\u001b[0m\u001b[0;34m(\u001b[0m\u001b[0;36m22.2\u001b[0m\u001b[0;34m,\u001b[0m \u001b[0;34m\"33\"\u001b[0m\u001b[0;34m)\u001b[0m\u001b[0;34m\u001b[0m\u001b[0;34m\u001b[0m\u001b[0m\n\u001b[0m",
            "\u001b[0;32m<ipython-input-163-36d9de65b708>\u001b[0m in \u001b[0;36msum_of_values\u001b[0;34m(x, y)\u001b[0m\n\u001b[1;32m      1\u001b[0m \u001b[0;32mdef\u001b[0m \u001b[0msum_of_values\u001b[0m\u001b[0;34m(\u001b[0m\u001b[0mx\u001b[0m\u001b[0;34m,\u001b[0m \u001b[0my\u001b[0m\u001b[0;34m)\u001b[0m\u001b[0;34m:\u001b[0m\u001b[0;34m\u001b[0m\u001b[0;34m\u001b[0m\u001b[0m\n\u001b[0;32m----> 2\u001b[0;31m   \u001b[0mprint\u001b[0m\u001b[0;34m(\u001b[0m\u001b[0mx\u001b[0m\u001b[0;34m+\u001b[0m\u001b[0my\u001b[0m\u001b[0;34m)\u001b[0m\u001b[0;34m\u001b[0m\u001b[0;34m\u001b[0m\u001b[0m\n\u001b[0m\u001b[1;32m      3\u001b[0m \u001b[0;34m\u001b[0m\u001b[0m\n\u001b[1;32m      4\u001b[0m \u001b[0msum_of_values\u001b[0m\u001b[0;34m(\u001b[0m\u001b[0;36m22.2\u001b[0m\u001b[0;34m,\u001b[0m \u001b[0;34m\"33\"\u001b[0m\u001b[0;34m)\u001b[0m\u001b[0;34m\u001b[0m\u001b[0;34m\u001b[0m\u001b[0m\n",
            "\u001b[0;31mTypeError\u001b[0m: unsupported operand type(s) for +: 'float' and 'str'"
          ]
        }
      ]
    }
  ]
}