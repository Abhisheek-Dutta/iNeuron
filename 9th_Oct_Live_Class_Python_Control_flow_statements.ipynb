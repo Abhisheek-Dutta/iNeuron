{
  "nbformat": 4,
  "nbformat_minor": 0,
  "metadata": {
    "colab": {
      "provenance": []
    },
    "kernelspec": {
      "name": "python3",
      "display_name": "Python 3"
    },
    "language_info": {
      "name": "python"
    }
  },
  "cells": [
    {
      "cell_type": "markdown",
      "source": [
        "# AGENDA\n",
        "1. Control flow statements\n",
        "- if else\n",
        "- if elif else\n",
        "- Nested if else\n",
        "- Single line if else [Not recommended]\n",
        "2. Loops in python\n",
        "- for\n",
        "- while\n"
      ],
      "metadata": {
        "id": "KwKRqScclZ_C"
      }
    },
    {
      "cell_type": "markdown",
      "source": [
        "## if else [Covered]"
      ],
      "metadata": {
        "id": "ibCHYHdmJ2Kn"
      }
    },
    {
      "cell_type": "markdown",
      "source": [
        "## If elif \n"
      ],
      "metadata": {
        "id": "RUSOICWZJ-Og"
      }
    },
    {
      "cell_type": "markdown",
      "source": [
        "Online Food orders - Zomato App, Swiggy, Uber Eats\n",
        "\n",
        "- if you order more than Rs.499\n",
        "  - discount = 20%\n",
        "- if you order more than Rs.999\n",
        "  - discount = 30%\n",
        "- if you order more than 1499\n",
        "  - discount = 40%"
      ],
      "metadata": {
        "id": "mnVBWvONKGo1"
      }
    },
    {
      "cell_type": "code",
      "source": [
        "total_amount = 90 + 100 + 100 + 1000\n",
        "\n",
        "print(f\"cart total: {total_amount}\")\n",
        "\n",
        "if total_amount > 999:\n",
        "  price_after_discount = total_amount * 70/100\n",
        "  print(f\"Pay amount: {price_after_discount}\")\n",
        "elif total_amount <= 999 and total_amount > 499: #  999 <= price < 499\n",
        "  price_after_discount = total_amount * 80/100\n",
        "  print(f\"Pay amount: {price_after_discount}\")\n",
        "else:\n",
        "  print(f\"Pay amount: {total_amount}\")"
      ],
      "metadata": {
        "colab": {
          "base_uri": "https://localhost:8080/"
        },
        "id": "iIKGxFtDIxat",
        "outputId": "d68b405c-078b-4588-d44f-dae8dc5325ac"
      },
      "execution_count": null,
      "outputs": [
        {
          "output_type": "stream",
          "name": "stdout",
          "text": [
            "cart total: 1290\n",
            "Pay amount: 903.0\n"
          ]
        }
      ]
    },
    {
      "cell_type": "code",
      "source": [
        "total_amount = 90 + 100 #+ 100 + 1000\n",
        "\n",
        "print(f\"cart total: {total_amount}\")\n",
        "\n",
        "if total_amount > 999:\n",
        "  price_after_discount = total_amount * 70/100\n",
        "  print(f\"Pay amount: {price_after_discount}\")\n",
        "elif total_amount <= 999 and total_amount > 499: #  999 <= price < 499\n",
        "  price_after_discount = total_amount * 80/100\n",
        "  print(f\"Pay amount: {price_after_discount}\")\n",
        "else:\n",
        "  print(f\"Pay amount: {total_amount}\")"
      ],
      "metadata": {
        "colab": {
          "base_uri": "https://localhost:8080/"
        },
        "id": "StYrLvBxMR5b",
        "outputId": "8a72ea0a-8106-48d7-ced5-d69a359d4244"
      },
      "execution_count": null,
      "outputs": [
        {
          "output_type": "stream",
          "name": "stdout",
          "text": [
            "cart total: 190\n",
            "Pay amount: 190\n"
          ]
        }
      ]
    },
    {
      "cell_type": "code",
      "source": [
        "total_amount = 90 + 100 + 500\n",
        "\n",
        "print(f\"cart total: {total_amount}\")\n",
        "\n",
        "if total_amount > 999:\n",
        "  price_after_discount = total_amount * 70/100\n",
        "  print(f\"Pay amount: {price_after_discount}\")\n",
        "elif total_amount <= 999 and total_amount > 499: #  999 <= price < 499\n",
        "  price_after_discount = total_amount * 80/100\n",
        "  print(f\"Pay amount: {price_after_discount}\")\n",
        "else:\n",
        "  print(f\"Pay amount: {total_amount}\")"
      ],
      "metadata": {
        "colab": {
          "base_uri": "https://localhost:8080/"
        },
        "id": "us_wTopBMfKd",
        "outputId": "df04de47-efe3-4cfb-a4a3-c3b21811e4ae"
      },
      "execution_count": null,
      "outputs": [
        {
          "output_type": "stream",
          "name": "stdout",
          "text": [
            "cart total: 690\n",
            "Pay amount: 552.0\n"
          ]
        }
      ]
    },
    {
      "cell_type": "code",
      "source": [
        "total_amount = 90 + 100 + 500\n",
        "\n",
        "print(f\"cart total: {total_amount}\")\n",
        "\n",
        "if total_amount > 999:\n",
        "  price_after_discount = total_amount * 70/100\n",
        "  print(f\"Pay amount: {price_after_discount}\")\n",
        "elif  499 < total_amount <= 999: #  999 <= price < 499\n",
        "  price_after_discount = total_amount * 80/100\n",
        "  print(f\"Pay amount: {price_after_discount}\")\n",
        "else:\n",
        "  print(f\"Pay amount: {total_amount}\")"
      ],
      "metadata": {
        "colab": {
          "base_uri": "https://localhost:8080/"
        },
        "id": "bX4EeVvAMj_b",
        "outputId": "b2f6c39f-b431-4192-c2fd-c3c3fbb64187"
      },
      "execution_count": null,
      "outputs": [
        {
          "output_type": "stream",
          "name": "stdout",
          "text": [
            "cart total: 690\n",
            "Pay amount: 552.0\n"
          ]
        }
      ]
    },
    {
      "cell_type": "code",
      "source": [
        "total_amount = 90 + 100 + 500\n",
        "\n",
        "print(f\"cart total: {total_amount}\")\n",
        "\n",
        "if total_amount > 999:\n",
        "  price_after_discount = total_amount * 70/100\n",
        "  print(f\"Pay amount: {price_after_discount}\")\n",
        "if 499 < total_amount <= 999: #  999 <= price < 499\n",
        "  price_after_discount = total_amount * 80/100\n",
        "  print(f\"Pay amount: {price_after_discount}\")\n",
        "else:\n",
        "  print(f\"Pay amount: {total_amount}\")"
      ],
      "metadata": {
        "id": "PyCyY6_hMyOz"
      },
      "execution_count": null,
      "outputs": []
    },
    {
      "cell_type": "code",
      "source": [
        "total_amount = 90 + 100 + 500 + 1000\n",
        "\n",
        "print(f\"cart total: {total_amount}\")\n",
        "\n",
        "if total_amount > 1499:\n",
        "  price_after_discount = total_amount * 60/100\n",
        "  print(f\"Pay amount: {price_after_discount}\")\n",
        "elif 999 < total_amount <= 1499:\n",
        "  price_after_discount = total_amount * 70/100\n",
        "  print(f\"Pay amount: {price_after_discount}\")\n",
        "elif 499 < total_amount <= 999: #  999 <= price < 499\n",
        "  price_after_discount = total_amount * 80/100\n",
        "  print(f\"Pay amount: {price_after_discount}\")\n",
        "else:\n",
        "  print(f\"Pay amount: {total_amount}\")"
      ],
      "metadata": {
        "colab": {
          "base_uri": "https://localhost:8080/"
        },
        "id": "T2uQ4eu0Nr3K",
        "outputId": "b429c87e-f305-41e4-cca7-5e7f1271f35e"
      },
      "execution_count": null,
      "outputs": [
        {
          "output_type": "stream",
          "name": "stdout",
          "text": [
            "cart total: 1690\n",
            "Pay amount: 1014.0\n"
          ]
        }
      ]
    },
    {
      "cell_type": "markdown",
      "source": [
        "### Nested if else"
      ],
      "metadata": {
        "id": "kDJKHgx4OXzi"
      }
    },
    {
      "cell_type": "markdown",
      "source": [
        "print if the no is negative or positive"
      ],
      "metadata": {
        "id": "jmkjg8geOf_K"
      }
    },
    {
      "cell_type": "code",
      "source": [
        "val = float(input(\"Enter a nuber:\"))\n",
        "if val>=0:\n",
        "  if val == 0:\n",
        "    print(\"Its zero\")\n",
        "  else:\n",
        "    print(\"Its a positive no\")\n",
        "else:\n",
        "  print(\"Negative number\")\n",
        "  "
      ],
      "metadata": {
        "colab": {
          "base_uri": "https://localhost:8080/"
        },
        "id": "WxKtE9ZAOJoq",
        "outputId": "11e86b5a-6325-4f27-dcef-37be3494e3a7"
      },
      "execution_count": null,
      "outputs": [
        {
          "output_type": "stream",
          "name": "stdout",
          "text": [
            "Enter a nuber:-12\n",
            "Negative number\n"
          ]
        }
      ]
    },
    {
      "cell_type": "markdown",
      "source": [
        "### Single line if else\n",
        "\n",
        "NOTE: NOT RECOMMENDED FOR CODING IN PROJECTS OR PRODUCTION\n",
        "\n",
        "but good for competitive programming"
      ],
      "metadata": {
        "id": "G5HOzNiBPOVC"
      }
    },
    {
      "cell_type": "markdown",
      "source": [
        "print YES of the no is greater than 99"
      ],
      "metadata": {
        "id": "hemL0_e3PbnY"
      }
    },
    {
      "cell_type": "code",
      "source": [
        "# OK for competitive program\n",
        "# For production code or in a company its not recommended\n",
        "val = float(input(\"Enter a number\"))\n",
        "\n",
        "if val > 99: print(\"YES\")\n",
        "else: print(\"NO\")"
      ],
      "metadata": {
        "colab": {
          "base_uri": "https://localhost:8080/"
        },
        "id": "dS5CSwLGPF2a",
        "outputId": "e594c5fe-860e-487d-def6-545bc6005c18"
      },
      "execution_count": null,
      "outputs": [
        {
          "output_type": "stream",
          "name": "stdout",
          "text": [
            "Enter a number9\n",
            "NO\n"
          ]
        }
      ]
    },
    {
      "cell_type": "code",
      "source": [
        "# Recommended approach\n",
        "# Its more readable and clean\n",
        "\n",
        "val = float(input(\"Enter a number\"))\n",
        "\n",
        "if val > 99: \n",
        "  print(\"YES\")\n",
        "else: \n",
        "  print(\"NO\")"
      ],
      "metadata": {
        "colab": {
          "base_uri": "https://localhost:8080/"
        },
        "id": "kOH2_jhBPw9K",
        "outputId": "b2775a29-12ee-457e-976f-f6c31d5586a0"
      },
      "execution_count": null,
      "outputs": [
        {
          "output_type": "stream",
          "name": "stdout",
          "text": [
            "Enter a number999\n",
            "YES\n"
          ]
        }
      ]
    },
    {
      "cell_type": "code",
      "source": [
        "# only good for competitive programming\n",
        "val = float(input(\"Enter a number: \"))\n",
        "\n",
        "print(\"YES\" if val > 99 else \"NO\")"
      ],
      "metadata": {
        "colab": {
          "base_uri": "https://localhost:8080/"
        },
        "id": "SZfh-o4EQfKh",
        "outputId": "9c2d701d-7a3c-4f46-b83c-5508cfaa7449"
      },
      "execution_count": null,
      "outputs": [
        {
          "output_type": "stream",
          "name": "stdout",
          "text": [
            "Enter a number: 100\n",
            "YES\n"
          ]
        }
      ]
    },
    {
      "cell_type": "code",
      "source": [
        "val = float(input(\"Enter a number: \"))\n",
        "\n",
        "print(\"YES\" if val > 99 else \"NO\")"
      ],
      "metadata": {
        "colab": {
          "base_uri": "https://localhost:8080/"
        },
        "id": "Yp3gjIkaQk0B",
        "outputId": "95d5fcff-b5e3-4165-dada-0ce973a49cd8"
      },
      "execution_count": null,
      "outputs": [
        {
          "output_type": "stream",
          "name": "stdout",
          "text": [
            "Enter a number: 9\n",
            "NO\n"
          ]
        }
      ]
    },
    {
      "cell_type": "markdown",
      "source": [
        "## Loops\n",
        "1. While loop\n",
        "2. For loop\n",
        "3. Loop control\n",
        "  - break\n",
        "  - continue\n",
        "  - pass\n",
        "4. Nested loop"
      ],
      "metadata": {
        "id": "kY7St6fXRldA"
      }
    },
    {
      "cell_type": "markdown",
      "source": [
        "# UPSC, IAS, Goverment exams, Board exams, \n",
        "## Repetive attempts"
      ],
      "metadata": {
        "id": "k1b1YEJeSUmf"
      }
    },
    {
      "cell_type": "markdown",
      "source": [
        "while I do not cross the cutoff I will keep on giving my exams\n",
        "\n",
        "while CONDTION is True:\n",
        "  print()\n",
        "\n"
      ],
      "metadata": {
        "id": "IU0zYHw3ULDJ"
      }
    },
    {
      "cell_type": "code",
      "source": [
        "cutoff = 400\n",
        "scores = [100, 200, 300, 399, 500]\n",
        "\n",
        "# I will keep on attempting until I succeed\n",
        "year = 0 # indexing in python starts with 0\n",
        "\n",
        "while scores[year] < cutoff:\n",
        "  print(f\"Your score is: {scores[year]}, cutoff: {cutoff}\")\n",
        "  print(\"I will attempt next year\")\n",
        "  year = year + 1 # I am adding 1 to current year"
      ],
      "metadata": {
        "colab": {
          "base_uri": "https://localhost:8080/"
        },
        "id": "YCWIOd1SQ2cI",
        "outputId": "4661ce8b-e37e-4e28-d8a4-dbe35c325f15"
      },
      "execution_count": null,
      "outputs": [
        {
          "output_type": "stream",
          "name": "stdout",
          "text": [
            "Your score is: 100, cutoff: 400\n",
            "I will attempt next year\n",
            "Your score is: 200, cutoff: 400\n",
            "I will attempt next year\n",
            "Your score is: 300, cutoff: 400\n",
            "I will attempt next year\n",
            "Your score is: 399, cutoff: 400\n",
            "I will attempt next year\n"
          ]
        }
      ]
    },
    {
      "cell_type": "markdown",
      "source": [
        "## Infinite loop\n",
        "\n",
        "if the CONDITION is always TRUE then you loop will keep on running..."
      ],
      "metadata": {
        "id": "03XW4VP-U60O"
      }
    },
    {
      "cell_type": "code",
      "source": [
        "year = 4\n",
        "scores[year]"
      ],
      "metadata": {
        "colab": {
          "base_uri": "https://localhost:8080/"
        },
        "id": "uivZZnssThEf",
        "outputId": "e1c6ad1d-e219-4bb0-b75c-96de2022cc17"
      },
      "execution_count": null,
      "outputs": [
        {
          "output_type": "execute_result",
          "data": {
            "text/plain": [
              "500"
            ]
          },
          "metadata": {},
          "execution_count": 30
        }
      ]
    },
    {
      "cell_type": "code",
      "source": [
        "\"\"\"\n",
        "Child is learning to counting 10 ruppes of note\n",
        "\"\"\"\n",
        "\n",
        "notes = 10\n",
        "i = 1 # 1st note\n",
        "\n",
        "while i <= notes:\n",
        "  print(f\"current sum: {i*10}\")\n",
        "  i = i + 1\n"
      ],
      "metadata": {
        "colab": {
          "base_uri": "https://localhost:8080/"
        },
        "id": "MkrT8WVwVcat",
        "outputId": "aac6b24e-f203-4f79-8377-d2eccd768adc"
      },
      "execution_count": null,
      "outputs": [
        {
          "output_type": "stream",
          "name": "stdout",
          "text": [
            "current sum: 10\n",
            "current sum: 20\n",
            "current sum: 30\n",
            "current sum: 40\n",
            "current sum: 50\n",
            "current sum: 60\n",
            "current sum: 70\n",
            "current sum: 80\n",
            "current sum: 90\n",
            "current sum: 100\n"
          ]
        }
      ]
    },
    {
      "cell_type": "code",
      "source": [
        "# Train journey \n",
        "stations = [\"Station 01\", \"Station 02\", \"Station 03\", \"Station 04\"]\n",
        "\n",
        "current_station = 0\n",
        "destination_station = \"Station 03\"\n",
        "\n",
        "while stations[current_station] != destination_station:\n",
        "  print(f\"current station is: {stations[current_station]}\")\n",
        "  print(f\"my destination is: {destination_station}\")\n",
        "  print(\"Continue the journey I haven't reached the destination\")\n",
        "  current_station = current_station + 1\n",
        "  print(f\"Next station is: {stations[current_station]}\")\n",
        "  print(\"-----\")\n"
      ],
      "metadata": {
        "colab": {
          "base_uri": "https://localhost:8080/"
        },
        "id": "a_mkLqauWZOE",
        "outputId": "cf06bc60-d748-4a8f-fb0f-2b627705b666"
      },
      "execution_count": null,
      "outputs": [
        {
          "output_type": "stream",
          "name": "stdout",
          "text": [
            "current station is: Station 01\n",
            "my destination is: Station 03\n",
            "Continue the journey I haven't reached the destination\n",
            "Next station is: Station 02\n",
            "-----\n",
            "current station is: Station 02\n",
            "my destination is: Station 03\n",
            "Continue the journey I haven't reached the destination\n",
            "Next station is: Station 03\n",
            "-----\n"
          ]
        }
      ]
    },
    {
      "cell_type": "markdown",
      "source": [
        "## While else:"
      ],
      "metadata": {
        "id": "Eaf4WRI7axmh"
      }
    },
    {
      "cell_type": "code",
      "source": [
        "# Train journey \n",
        "stations = [\"Station 01\", \"Station 02\", \"Station 03\", \"Station 04\"]\n",
        "\n",
        "current_station = 0\n",
        "destination_station = \"Station 03\"\n",
        "\n",
        "while stations[current_station] != destination_station:\n",
        "  print(f\"current station is: {stations[current_station]}\")\n",
        "  print(f\"my destination is: {destination_station}\")\n",
        "  print(\"Continue the journey I haven't reached the destination\")\n",
        "  current_station = current_station + 1\n",
        "  print(f\"Next station is: {stations[current_station]}\")\n",
        "  print(\"-----\")\n",
        "else:\n",
        "  print(f\"I have arrived at: {stations[current_station]}\")  "
      ],
      "metadata": {
        "colab": {
          "base_uri": "https://localhost:8080/"
        },
        "id": "hWpoSQ-GTPnn",
        "outputId": "61c2681e-0d9b-4254-c8d2-a40fdd8704e3"
      },
      "execution_count": null,
      "outputs": [
        {
          "output_type": "stream",
          "name": "stdout",
          "text": [
            "current station is: Station 01\n",
            "my destination is: Station 03\n",
            "Continue the journey I haven't reached the destination\n",
            "Next station is: Station 02\n",
            "-----\n",
            "current station is: Station 02\n",
            "my destination is: Station 03\n",
            "Continue the journey I haven't reached the destination\n",
            "Next station is: Station 03\n",
            "-----\n",
            "I have arrived at: Station 03\n"
          ]
        }
      ]
    },
    {
      "cell_type": "markdown",
      "source": [
        "```\n",
        "while CONDITION is True:\n",
        "  statement \n",
        "else:\n",
        "  statement\n",
        "```"
      ],
      "metadata": {
        "id": "VaVTjwULbb96"
      }
    },
    {
      "cell_type": "code",
      "source": [
        "\"\"\"\n",
        "Child is learning to counting 10 ruppes of note\n",
        "\"\"\"\n",
        "\n",
        "notes = 5\n",
        "i = 1 # 1st note\n",
        "\n",
        "while i <= notes:\n",
        "  print(f\"CONDITION: {i <= notes}\")\n",
        "  print(f\"current sum: {i*10}\")\n",
        "  i = i + 1\n",
        "  print(\"------\")\n",
        "else:\n",
        "  print(f\"CONDITION: {i <= notes}\")\n",
        "  print(\"No more 10 rupees notes left\")"
      ],
      "metadata": {
        "colab": {
          "base_uri": "https://localhost:8080/"
        },
        "id": "v-NLlA3ZVLbs",
        "outputId": "adc1f05e-0f69-4044-9604-502b2b9074c0"
      },
      "execution_count": null,
      "outputs": [
        {
          "output_type": "stream",
          "name": "stdout",
          "text": [
            "CONDITION: True\n",
            "current sum: 10\n",
            "------\n",
            "CONDITION: True\n",
            "current sum: 20\n",
            "------\n",
            "CONDITION: True\n",
            "current sum: 30\n",
            "------\n",
            "CONDITION: True\n",
            "current sum: 40\n",
            "------\n",
            "CONDITION: True\n",
            "current sum: 50\n",
            "------\n",
            "CONDITION: False\n",
            "No more 10 rupees notes left\n"
          ]
        }
      ]
    },
    {
      "cell_type": "markdown",
      "source": [
        "## for loop"
      ],
      "metadata": {
        "id": "W80s9EThcRNJ"
      }
    },
    {
      "cell_type": "code",
      "source": [
        "for i in range(0, 10):\n",
        "  print(i)"
      ],
      "metadata": {
        "colab": {
          "base_uri": "https://localhost:8080/"
        },
        "id": "RTEPoMRKb0j3",
        "outputId": "82277873-db03-4e90-b78b-32235887ac59"
      },
      "execution_count": null,
      "outputs": [
        {
          "output_type": "stream",
          "name": "stdout",
          "text": [
            "0\n",
            "1\n",
            "2\n",
            "3\n",
            "4\n",
            "5\n",
            "6\n",
            "7\n",
            "8\n",
            "9\n"
          ]
        }
      ]
    },
    {
      "cell_type": "code",
      "source": [
        "for i in range(0, 10): # (10 here is out of bound)\n",
        "  print(f\"10 X {i} = {10*i}\")"
      ],
      "metadata": {
        "colab": {
          "base_uri": "https://localhost:8080/"
        },
        "id": "UXUNozMjclTX",
        "outputId": "2a556e46-099e-47d5-f3be-ad0a704a7871"
      },
      "execution_count": null,
      "outputs": [
        {
          "output_type": "stream",
          "name": "stdout",
          "text": [
            "10 X 0 = 0\n",
            "10 X 1 = 10\n",
            "10 X 2 = 20\n",
            "10 X 3 = 30\n",
            "10 X 4 = 40\n",
            "10 X 5 = 50\n",
            "10 X 6 = 60\n",
            "10 X 7 = 70\n",
            "10 X 8 = 80\n",
            "10 X 9 = 90\n"
          ]
        }
      ]
    },
    {
      "cell_type": "code",
      "source": [
        "for i in range(0, 10): # (10 here is out of bound)\n",
        "  print(f\"10 X {i + 1} = {10*(i+1)}\")"
      ],
      "metadata": {
        "colab": {
          "base_uri": "https://localhost:8080/"
        },
        "id": "Fjcxf1l7czhY",
        "outputId": "de5aabd2-81e7-4a9f-bf1d-cce65fb2cceb"
      },
      "execution_count": null,
      "outputs": [
        {
          "output_type": "stream",
          "name": "stdout",
          "text": [
            "10 X 1 = 10\n",
            "10 X 2 = 20\n",
            "10 X 3 = 30\n",
            "10 X 4 = 40\n",
            "10 X 5 = 50\n",
            "10 X 6 = 60\n",
            "10 X 7 = 70\n",
            "10 X 8 = 80\n",
            "10 X 9 = 90\n",
            "10 X 10 = 100\n"
          ]
        }
      ]
    },
    {
      "cell_type": "code",
      "source": [
        "for i in range(1, 11): # (11 here is out of bound)\n",
        "  print(f\"10 X {i} = {10*i}\")"
      ],
      "metadata": {
        "colab": {
          "base_uri": "https://localhost:8080/"
        },
        "id": "uyxY2iF2dBEf",
        "outputId": "ae848631-14a6-4566-dd19-bbf496439fda"
      },
      "execution_count": null,
      "outputs": [
        {
          "output_type": "stream",
          "name": "stdout",
          "text": [
            "10 X 1 = 10\n",
            "10 X 2 = 20\n",
            "10 X 3 = 30\n",
            "10 X 4 = 40\n",
            "10 X 5 = 50\n",
            "10 X 6 = 60\n",
            "10 X 7 = 70\n",
            "10 X 8 = 80\n",
            "10 X 9 = 90\n",
            "10 X 10 = 100\n"
          ]
        }
      ]
    },
    {
      "cell_type": "code",
      "source": [
        "\"Sunny\"*10"
      ],
      "metadata": {
        "colab": {
          "base_uri": "https://localhost:8080/",
          "height": 35
        },
        "id": "oZfxI8lGdcSJ",
        "outputId": "2ddf45b3-0c3c-4691-defb-521e92a87c32"
      },
      "execution_count": null,
      "outputs": [
        {
          "output_type": "execute_result",
          "data": {
            "text/plain": [
              "'SunnySunnySunnySunnySunnySunnySunnySunnySunnySunny'"
            ],
            "application/vnd.google.colaboratory.intrinsic+json": {
              "type": "string"
            }
          },
          "metadata": {},
          "execution_count": 48
        }
      ]
    },
    {
      "cell_type": "code",
      "source": [
        "\"Sunny\" + \"Sunny\""
      ],
      "metadata": {
        "colab": {
          "base_uri": "https://localhost:8080/",
          "height": 35
        },
        "id": "mfGxpAk0dg6p",
        "outputId": "6c96beec-3a76-4051-ac3f-d733f3805281"
      },
      "execution_count": null,
      "outputs": [
        {
          "output_type": "execute_result",
          "data": {
            "text/plain": [
              "'SunnySunny'"
            ],
            "application/vnd.google.colaboratory.intrinsic+json": {
              "type": "string"
            }
          },
          "metadata": {},
          "execution_count": 49
        }
      ]
    },
    {
      "cell_type": "code",
      "source": [
        "\"*\"*10"
      ],
      "metadata": {
        "colab": {
          "base_uri": "https://localhost:8080/",
          "height": 35
        },
        "id": "eYgDwfGvdjS4",
        "outputId": "7fa2ee8e-9c02-4c68-ed8d-981aae044254"
      },
      "execution_count": null,
      "outputs": [
        {
          "output_type": "execute_result",
          "data": {
            "text/plain": [
              "'**********'"
            ],
            "application/vnd.google.colaboratory.intrinsic+json": {
              "type": "string"
            }
          },
          "metadata": {},
          "execution_count": 51
        }
      ]
    },
    {
      "cell_type": "code",
      "source": [
        "for i in range(1, 11): # (11 here is out of bound)\n",
        "  print(\"*\"*i)"
      ],
      "metadata": {
        "colab": {
          "base_uri": "https://localhost:8080/"
        },
        "id": "gLGz7gZndLun",
        "outputId": "d0512f7b-23a5-4792-8fe0-4eb8c575d353"
      },
      "execution_count": null,
      "outputs": [
        {
          "output_type": "stream",
          "name": "stdout",
          "text": [
            "*\n",
            "**\n",
            "***\n",
            "****\n",
            "*****\n",
            "******\n",
            "*******\n",
            "********\n",
            "*********\n",
            "**********\n"
          ]
        }
      ]
    },
    {
      "cell_type": "code",
      "source": [
        "## i is not neccessary to use\n",
        "\n",
        "for sunny in range(1, 11): # (11 here is out of bound)\n",
        "  print(\"*\"*sunny)"
      ],
      "metadata": {
        "colab": {
          "base_uri": "https://localhost:8080/"
        },
        "id": "SheOTWiidW2v",
        "outputId": "6aa6da79-ceb2-4671-de65-8fbd4a84b0ba"
      },
      "execution_count": null,
      "outputs": [
        {
          "output_type": "stream",
          "name": "stdout",
          "text": [
            "*\n",
            "**\n",
            "***\n",
            "****\n",
            "*****\n",
            "******\n",
            "*******\n",
            "********\n",
            "*********\n",
            "**********\n"
          ]
        }
      ]
    },
    {
      "cell_type": "code",
      "source": [
        "Cost_of_items = [100, 200, 129, 456]\n",
        "#                 0    1    2    3\n",
        "\n",
        "total_sum = 0\n",
        "\n",
        "for i in range(0, 4): # 0,1,2,3 \n",
        "  print(f\"{total_sum} = {total_sum} + {Cost_of_items[i]}\")\n",
        "  total_sum = total_sum + Cost_of_items[i]\n",
        "  print(f\"after adding total_sum={total_sum}\")\n",
        "  print(\"---\")\n",
        "print(f\"Total amount to be paid: {total_sum}\")"
      ],
      "metadata": {
        "colab": {
          "base_uri": "https://localhost:8080/"
        },
        "id": "W0MIogvwd1bH",
        "outputId": "999f0cb7-4df4-4197-e40a-79ed5c8c7953"
      },
      "execution_count": null,
      "outputs": [
        {
          "output_type": "stream",
          "name": "stdout",
          "text": [
            "0 = 0 + 100\n",
            "after adding total_sum=100\n",
            "---\n",
            "100 = 100 + 200\n",
            "after adding total_sum=300\n",
            "---\n",
            "300 = 300 + 129\n",
            "after adding total_sum=429\n",
            "---\n",
            "429 = 429 + 456\n",
            "after adding total_sum=885\n",
            "---\n",
            "Total amount to be paid: 885\n"
          ]
        }
      ]
    },
    {
      "cell_type": "code",
      "source": [
        "Cost_of_items = [100, 200, 129, 456]\n",
        "#                 0    1    2    3\n",
        "\n",
        "total_sum = 0\n",
        "\n",
        "for i in range(0, 3): # 0,1,2,3 \n",
        "  print(f\"{total_sum} = {total_sum} + {Cost_of_items[i]}\")\n",
        "  total_sum = total_sum + Cost_of_items[i]\n",
        "  print(f\"after adding total_sum={total_sum}\")\n",
        "  print(\"---\")\n",
        "print(f\"Total amount to be paid: {total_sum}\")"
      ],
      "metadata": {
        "colab": {
          "base_uri": "https://localhost:8080/"
        },
        "id": "Nlukx4DIeuqq",
        "outputId": "b7d25d97-60e8-493c-c0f3-541c3cf366bd"
      },
      "execution_count": null,
      "outputs": [
        {
          "output_type": "stream",
          "name": "stdout",
          "text": [
            "0 = 0 + 100\n",
            "after adding total_sum=100\n",
            "---\n",
            "100 = 100 + 200\n",
            "after adding total_sum=300\n",
            "---\n",
            "300 = 300 + 129\n",
            "after adding total_sum=429\n",
            "---\n",
            "Total amount to be paid: 429\n"
          ]
        }
      ]
    },
    {
      "cell_type": "code",
      "source": [
        "len(Cost_of_items)"
      ],
      "metadata": {
        "colab": {
          "base_uri": "https://localhost:8080/"
        },
        "id": "TJny9BjIfWzp",
        "outputId": "b930a434-d47c-409d-bcd7-fd192621c466"
      },
      "execution_count": null,
      "outputs": [
        {
          "output_type": "execute_result",
          "data": {
            "text/plain": [
              "4"
            ]
          },
          "metadata": {},
          "execution_count": 57
        }
      ]
    },
    {
      "cell_type": "code",
      "source": [
        "Cost_of_items = [100, 200, 129, 456, 1000]\n",
        "#                 0    1    2    3\n",
        "\n",
        "total_sum = 0\n",
        "N = len(Cost_of_items)\n",
        "\n",
        "for i in range(0, N): # 0,1,2,3 \n",
        "  print(f\"{total_sum} = {total_sum} + {Cost_of_items[i]}\")\n",
        "  total_sum = total_sum + Cost_of_items[i]\n",
        "  print(f\"after adding total_sum={total_sum}\")\n",
        "  print(\"---\")\n",
        "print(f\"Total amount to be paid: {total_sum}\")"
      ],
      "metadata": {
        "colab": {
          "base_uri": "https://localhost:8080/"
        },
        "id": "Kv6Uk2kqffRG",
        "outputId": "53c82871-c5fb-4171-d2f5-80993c328cfe"
      },
      "execution_count": null,
      "outputs": [
        {
          "output_type": "stream",
          "name": "stdout",
          "text": [
            "0 = 0 + 100\n",
            "after adding total_sum=100\n",
            "---\n",
            "100 = 100 + 200\n",
            "after adding total_sum=300\n",
            "---\n",
            "300 = 300 + 129\n",
            "after adding total_sum=429\n",
            "---\n",
            "429 = 429 + 456\n",
            "after adding total_sum=885\n",
            "---\n",
            "885 = 885 + 1000\n",
            "after adding total_sum=1885\n",
            "---\n",
            "Total amount to be paid: 1885\n"
          ]
        }
      ]
    },
    {
      "cell_type": "code",
      "source": [
        "Cost_of_items = [100, 200, 129, 456, 1000]\n",
        "#                 0    1    2    3\n",
        "\n",
        "total_sum = 0\n",
        "\n",
        "for cost in Cost_of_items:\n",
        "  print(f\"{total_sum} = {total_sum} + {cost}\")\n",
        "  total_sum = total_sum + cost\n",
        "  print(f\"after adding total_sum={total_sum}\")\n",
        "  print(\"---\")\n",
        "print(f\"Total amount to be paid: {total_sum}\")"
      ],
      "metadata": {
        "colab": {
          "base_uri": "https://localhost:8080/"
        },
        "id": "gbPGyxFVfmaO",
        "outputId": "aad62c80-2cde-45a3-8691-a9b2f101e02e"
      },
      "execution_count": null,
      "outputs": [
        {
          "output_type": "stream",
          "name": "stdout",
          "text": [
            "0 = 0 + 100\n",
            "after adding total_sum=100\n",
            "---\n",
            "100 = 100 + 200\n",
            "after adding total_sum=300\n",
            "---\n",
            "300 = 300 + 129\n",
            "after adding total_sum=429\n",
            "---\n",
            "429 = 429 + 456\n",
            "after adding total_sum=885\n",
            "---\n",
            "885 = 885 + 1000\n",
            "after adding total_sum=1885\n",
            "---\n",
            "Total amount to be paid: 1885\n"
          ]
        }
      ]
    },
    {
      "cell_type": "code",
      "source": [
        "Cost_of_items = [100, 200, 129, 456, 1000]\n",
        "#                 0    1    2    3\n",
        "total_sum = 0\n",
        "for cost in Cost_of_items:\n",
        "  print(cost)\n"
      ],
      "metadata": {
        "colab": {
          "base_uri": "https://localhost:8080/"
        },
        "id": "QGa9O7HhgBxL",
        "outputId": "06f1266d-25d8-4414-e64e-795ae13734f8"
      },
      "execution_count": null,
      "outputs": [
        {
          "output_type": "stream",
          "name": "stdout",
          "text": [
            "100\n",
            "200\n",
            "129\n",
            "456\n",
            "1000\n"
          ]
        }
      ]
    },
    {
      "cell_type": "code",
      "source": [
        "Cost_of_items = [100, 200, 129, 456, 1000]\n",
        "#                 0    1    2    3\n",
        "total_sum = 0\n",
        "N = len(Cost_of_items)\n",
        "for i in range(0, N): # 0,1,2,3 \n",
        "  print(Cost_of_items[i])"
      ],
      "metadata": {
        "colab": {
          "base_uri": "https://localhost:8080/"
        },
        "id": "uviUYnoTgggU",
        "outputId": "0ff68462-3d50-477c-d7ea-3010dd638355"
      },
      "execution_count": null,
      "outputs": [
        {
          "output_type": "stream",
          "name": "stdout",
          "text": [
            "100\n",
            "200\n",
            "129\n",
            "456\n",
            "1000\n"
          ]
        }
      ]
    },
    {
      "cell_type": "code",
      "source": [
        "# Train journey \n",
        "stations = [\"Station 01\", \"Station 02\", \"Station 03\", \"Station 04\"]\n",
        "\n",
        "for current_station in stations:\n",
        "  print(f\"Current station is: {current_station}\")"
      ],
      "metadata": {
        "colab": {
          "base_uri": "https://localhost:8080/"
        },
        "id": "uiUCY-c5grqM",
        "outputId": "0c323caa-a4d8-450a-a211-f9adacce63a0"
      },
      "execution_count": null,
      "outputs": [
        {
          "output_type": "stream",
          "name": "stdout",
          "text": [
            "Current station is: Station 01\n",
            "Current station is: Station 02\n",
            "Current station is: Station 03\n",
            "Current station is: Station 04\n"
          ]
        }
      ]
    },
    {
      "cell_type": "code",
      "source": [
        "# Train journey \n",
        "stations = [\"Station 01\", \"Station 02\", \"Station 03\", \"Station 04\"]\n",
        "\n",
        "for sunny in stations:\n",
        "  print(f\"Current station is: {sunny}\")"
      ],
      "metadata": {
        "colab": {
          "base_uri": "https://localhost:8080/"
        },
        "id": "G0MOCW5phIAM",
        "outputId": "2433bd34-0d01-4f76-f3c6-5986eaffdf8d"
      },
      "execution_count": null,
      "outputs": [
        {
          "output_type": "stream",
          "name": "stdout",
          "text": [
            "Current station is: Station 01\n",
            "Current station is: Station 02\n",
            "Current station is: Station 03\n",
            "Current station is: Station 04\n"
          ]
        }
      ]
    },
    {
      "cell_type": "markdown",
      "source": [
        "### break and continue\n"
      ],
      "metadata": {
        "id": "G0XlErALh9Pk"
      }
    },
    {
      "cell_type": "code",
      "source": [
        "cost_of_items = [100, 200, 129, 456, 1000, 199, 299]\n",
        "#                 0    1    2    3\n",
        "\n",
        "total_sum = 0\n",
        "budget = 2000\n",
        "\n",
        "for cost in cost_of_items:\n",
        "  total_sum = total_sum + cost\n",
        "  print(f\"current total: {total_sum}\")\n",
        "  if total_sum > budget:\n",
        "    print(f\"since current total is more than my budget: {budget}\")\n",
        "    print(\"please remove the last item\")\n",
        "    total_sum = total_sum - cost\n",
        "    break\n",
        "\n",
        "print(f'total amount to be paid: {total_sum}')"
      ],
      "metadata": {
        "colab": {
          "base_uri": "https://localhost:8080/"
        },
        "id": "pHo2AuxxhNFE",
        "outputId": "831513b0-1f53-4394-d80a-744bf90c0070"
      },
      "execution_count": null,
      "outputs": [
        {
          "output_type": "stream",
          "name": "stdout",
          "text": [
            "current total: 100\n",
            "current total: 300\n",
            "current total: 429\n",
            "current total: 885\n",
            "current total: 1885\n",
            "current total: 2084\n",
            "since current total is more than my budget: 2000\n",
            "please remove the last item\n",
            "total amount to be paid: 1885\n"
          ]
        }
      ]
    },
    {
      "cell_type": "code",
      "source": [
        "for i in range(1, 100):\n",
        "  print(i)\n",
        "  if i > 50:\n",
        "    break\n"
      ],
      "metadata": {
        "colab": {
          "base_uri": "https://localhost:8080/"
        },
        "id": "JLSHdCnniG3z",
        "outputId": "3c320810-7a04-4bf0-c302-360b4d7aaa6e"
      },
      "execution_count": null,
      "outputs": [
        {
          "output_type": "stream",
          "name": "stdout",
          "text": [
            "1\n",
            "2\n",
            "3\n",
            "4\n",
            "5\n",
            "6\n",
            "7\n",
            "8\n",
            "9\n",
            "10\n",
            "11\n",
            "12\n",
            "13\n",
            "14\n",
            "15\n",
            "16\n",
            "17\n",
            "18\n",
            "19\n",
            "20\n",
            "21\n",
            "22\n",
            "23\n",
            "24\n",
            "25\n",
            "26\n",
            "27\n",
            "28\n",
            "29\n",
            "30\n",
            "31\n",
            "32\n",
            "33\n",
            "34\n",
            "35\n",
            "36\n",
            "37\n",
            "38\n",
            "39\n",
            "40\n",
            "41\n",
            "42\n",
            "43\n",
            "44\n",
            "45\n",
            "46\n",
            "47\n",
            "48\n",
            "49\n",
            "50\n",
            "51\n"
          ]
        }
      ]
    },
    {
      "cell_type": "code",
      "source": [
        "for i in range(1, 100):\n",
        "  print(i)\n",
        "  if i >= 50:\n",
        "    break\n"
      ],
      "metadata": {
        "colab": {
          "base_uri": "https://localhost:8080/"
        },
        "id": "x_mIrlp1kxhl",
        "outputId": "9807e9d4-b12b-4d5e-e703-2081a0763672"
      },
      "execution_count": null,
      "outputs": [
        {
          "output_type": "stream",
          "name": "stdout",
          "text": [
            "1\n",
            "2\n",
            "3\n",
            "4\n",
            "5\n",
            "6\n",
            "7\n",
            "8\n",
            "9\n",
            "10\n",
            "11\n",
            "12\n",
            "13\n",
            "14\n",
            "15\n",
            "16\n",
            "17\n",
            "18\n",
            "19\n",
            "20\n",
            "21\n",
            "22\n",
            "23\n",
            "24\n",
            "25\n",
            "26\n",
            "27\n",
            "28\n",
            "29\n",
            "30\n",
            "31\n",
            "32\n",
            "33\n",
            "34\n",
            "35\n",
            "36\n",
            "37\n",
            "38\n",
            "39\n",
            "40\n",
            "41\n",
            "42\n",
            "43\n",
            "44\n",
            "45\n",
            "46\n",
            "47\n",
            "48\n",
            "49\n",
            "50\n"
          ]
        }
      ]
    },
    {
      "cell_type": "code",
      "source": [
        "for i in range(1, 100):\n",
        "  if i > 50:\n",
        "    break\n",
        "  print(i)\n",
        "  "
      ],
      "metadata": {
        "colab": {
          "base_uri": "https://localhost:8080/"
        },
        "id": "JYKZ09tVkQNZ",
        "outputId": "7b8a717e-1b54-4b1d-a127-2b98b8cb0418"
      },
      "execution_count": null,
      "outputs": [
        {
          "output_type": "stream",
          "name": "stdout",
          "text": [
            "1\n",
            "2\n",
            "3\n",
            "4\n",
            "5\n",
            "6\n",
            "7\n",
            "8\n",
            "9\n",
            "10\n",
            "11\n",
            "12\n",
            "13\n",
            "14\n",
            "15\n",
            "16\n",
            "17\n",
            "18\n",
            "19\n",
            "20\n",
            "21\n",
            "22\n",
            "23\n",
            "24\n",
            "25\n",
            "26\n",
            "27\n",
            "28\n",
            "29\n",
            "30\n",
            "31\n",
            "32\n",
            "33\n",
            "34\n",
            "35\n",
            "36\n",
            "37\n",
            "38\n",
            "39\n",
            "40\n",
            "41\n",
            "42\n",
            "43\n",
            "44\n",
            "45\n",
            "46\n",
            "47\n",
            "48\n",
            "49\n",
            "50\n"
          ]
        }
      ]
    },
    {
      "cell_type": "code",
      "source": [
        "for i in range(1, 20):\n",
        "  if i%2==0: # if no is even then start the loop again\n",
        "    continue\n",
        "  print(i)\n",
        "  "
      ],
      "metadata": {
        "colab": {
          "base_uri": "https://localhost:8080/"
        },
        "id": "_oepEv_Ykmja",
        "outputId": "c616cc92-cf8b-4260-bf85-266030ef598a"
      },
      "execution_count": null,
      "outputs": [
        {
          "output_type": "stream",
          "name": "stdout",
          "text": [
            "1\n",
            "3\n",
            "5\n",
            "7\n",
            "9\n",
            "11\n",
            "13\n",
            "15\n",
            "17\n",
            "19\n"
          ]
        }
      ]
    },
    {
      "cell_type": "code",
      "source": [
        "for i in range(1, 20):\n",
        "  if i%2==0: # if no is even then start the loop again\n",
        "    break\n",
        "  print(i)\n",
        "  "
      ],
      "metadata": {
        "colab": {
          "base_uri": "https://localhost:8080/"
        },
        "id": "w4rFd2A2lRK5",
        "outputId": "0eede004-eafa-4a63-9517-59daf6a56f2f"
      },
      "execution_count": null,
      "outputs": [
        {
          "output_type": "stream",
          "name": "stdout",
          "text": [
            "1\n"
          ]
        }
      ]
    },
    {
      "cell_type": "code",
      "source": [
        "for i in range(1, 20):\n",
        "  if i%2!=0: # if no is odd then start the loop again\n",
        "    continue # Start the loop again\n",
        "  print(i)"
      ],
      "metadata": {
        "colab": {
          "base_uri": "https://localhost:8080/"
        },
        "id": "iLlyqcnXk-aZ",
        "outputId": "6670b7c6-5a32-4833-8ffa-b5092e226d94"
      },
      "execution_count": null,
      "outputs": [
        {
          "output_type": "stream",
          "name": "stdout",
          "text": [
            "2\n",
            "4\n",
            "6\n",
            "8\n",
            "10\n",
            "12\n",
            "14\n",
            "16\n",
            "18\n"
          ]
        }
      ]
    },
    {
      "cell_type": "code",
      "source": [
        "for i in range(1, 20):\n",
        "  if i%2!=0: #\n",
        "    break # STOP THE LOOP DON't proceed at all\n",
        "  print(i)"
      ],
      "metadata": {
        "id": "CBkbQ8o-lLFK"
      },
      "execution_count": null,
      "outputs": []
    },
    {
      "cell_type": "code",
      "source": [
        "# Train journey \n",
        "stations = [\"Station 01\", \"Station 02\", \"Station 03\", \"Station 04\"]\n",
        "\n",
        "for current_station in stations:\n",
        "  print(f\"Current station is: {current_station}\")\n",
        "  if current_station == \"Station 03\":\n",
        "    break"
      ],
      "metadata": {
        "colab": {
          "base_uri": "https://localhost:8080/"
        },
        "id": "BreJoyX4lVKy",
        "outputId": "05521b98-7f30-4352-a24b-95a4327ed17b"
      },
      "execution_count": null,
      "outputs": [
        {
          "output_type": "stream",
          "name": "stdout",
          "text": [
            "Current station is: Station 01\n",
            "Current station is: Station 02\n",
            "Current station is: Station 03\n"
          ]
        }
      ]
    },
    {
      "cell_type": "code",
      "source": [
        "# Train journey \n",
        "stations = [\"Station 01\", \"Station 02\", \"Station 03\", \"Station 04\"]\n",
        "\n",
        "for current_station in stations:\n",
        "  print(f\"Current station is: {current_station}\")\n",
        "  if current_station == \"Station 02\":\n",
        "    break"
      ],
      "metadata": {
        "colab": {
          "base_uri": "https://localhost:8080/"
        },
        "id": "7ZZx00CDmIdA",
        "outputId": "dfcc20de-7cb3-452b-cfe2-35564e6d4b4b"
      },
      "execution_count": null,
      "outputs": [
        {
          "output_type": "stream",
          "name": "stdout",
          "text": [
            "Current station is: Station 01\n",
            "Current station is: Station 02\n"
          ]
        }
      ]
    },
    {
      "cell_type": "code",
      "source": [
        "# Train journey \n",
        "stations = [\"Station 01\", \"Station 02\", \"Station 03\", \"Station 04\"]\n",
        "\n",
        "for current_station in stations:\n",
        "  if current_station == \"Station 02\":\n",
        "    continue\n",
        "  print(f\"Current station is: {current_station}\")\n",
        "  "
      ],
      "metadata": {
        "colab": {
          "base_uri": "https://localhost:8080/"
        },
        "id": "dR9JvynwmMKq",
        "outputId": "b5e16c62-ffc9-4bb7-d91f-5b86b7a360f1"
      },
      "execution_count": null,
      "outputs": [
        {
          "output_type": "stream",
          "name": "stdout",
          "text": [
            "Current station is: Station 01\n",
            "Current station is: Station 03\n",
            "Current station is: Station 04\n"
          ]
        }
      ]
    },
    {
      "cell_type": "markdown",
      "source": [
        "- break: it completely stops the loop\n",
        "- continue: it skips the current loop or it skips all the statement after `continue` keyword"
      ],
      "metadata": {
        "id": "OODz7ZBtmo1H"
      }
    },
    {
      "cell_type": "code",
      "source": [
        "\n",
        "for i in range(1, 10):\n",
        "  pass # I want to write code later"
      ],
      "metadata": {
        "id": "rv9Luv4ymZJ7"
      },
      "execution_count": null,
      "outputs": []
    },
    {
      "cell_type": "code",
      "source": [
        "# Train journey \n",
        "stations = [\"Station 01\", \"Station 02\", \"Station 03\", \"Station 04\"]\n",
        "\n",
        "for current_station in stations:\n",
        "  if current_station == \"Station 02\":\n",
        "    pass\n",
        "  print(f\"Current station is: {current_station}\")"
      ],
      "metadata": {
        "colab": {
          "base_uri": "https://localhost:8080/"
        },
        "id": "h4-Bpvi4nIpw",
        "outputId": "973a30eb-c209-4004-de2e-874f02caeb80"
      },
      "execution_count": null,
      "outputs": [
        {
          "output_type": "stream",
          "name": "stdout",
          "text": [
            "Current station is: Station 01\n",
            "Current station is: Station 02\n",
            "Current station is: Station 03\n",
            "Current station is: Station 04\n"
          ]
        }
      ]
    },
    {
      "cell_type": "markdown",
      "source": [],
      "metadata": {
        "id": "d9-7J5Nrnpdg"
      }
    },
    {
      "cell_type": "markdown",
      "source": [
        "# REVISION"
      ],
      "metadata": {
        "id": "9w75ac-yofnf"
      }
    },
    {
      "cell_type": "markdown",
      "source": [
        "## if else"
      ],
      "metadata": {
        "id": "r6O9FqMPoob_"
      }
    },
    {
      "cell_type": "code",
      "source": [
        "num = 100\n",
        "\n",
        "if num%2 == 0:\n",
        "  print(\"The no is even\")\n",
        "else:\n",
        "  print(\"The no is odd\")\n"
      ],
      "metadata": {
        "colab": {
          "base_uri": "https://localhost:8080/"
        },
        "id": "vmRGR0WdnbQf",
        "outputId": "8769d533-b1f9-4060-e293-634e06e17614"
      },
      "execution_count": null,
      "outputs": [
        {
          "output_type": "stream",
          "name": "stdout",
          "text": [
            "The no is even\n"
          ]
        }
      ]
    },
    {
      "cell_type": "code",
      "source": [
        "num = 99\n",
        "\n",
        "if num%2 == 0:\n",
        "  print(\"The no is even\")\n",
        "else:\n",
        "  print(\"The no is odd\")"
      ],
      "metadata": {
        "colab": {
          "base_uri": "https://localhost:8080/"
        },
        "id": "lruzd_14o1im",
        "outputId": "d6e7c79f-9646-453a-f786-2ffff236294e"
      },
      "execution_count": null,
      "outputs": [
        {
          "output_type": "stream",
          "name": "stdout",
          "text": [
            "The no is odd\n"
          ]
        }
      ]
    },
    {
      "cell_type": "code",
      "source": [
        "num = 89\n",
        "\n",
        "if num > 100:\n",
        "  print(\"the no. is greater than 100\")\n",
        "elif 80 < num <= 100:\n",
        "  print(\"the no. is in range 80 to 100\")\n",
        "\n",
        "elif 60 < num <= 80:\n",
        "  print(\"the no. is in range 60 to 80\")\n",
        "\n",
        "elif 40 < num <= 60:\n",
        "  print(\"the no. is in range 40 to 60\")\n",
        "\n",
        "else:\n",
        "  print(\"The no is less than 40\")"
      ],
      "metadata": {
        "colab": {
          "base_uri": "https://localhost:8080/"
        },
        "id": "6uwyp8Mmo3VP",
        "outputId": "460be666-7f1e-4459-cf4f-2296b92b4f58"
      },
      "execution_count": null,
      "outputs": [
        {
          "output_type": "stream",
          "name": "stdout",
          "text": [
            "the no. is in range 80 to 100\n"
          ]
        }
      ]
    },
    {
      "cell_type": "code",
      "source": [
        "num = 100\n",
        "\n",
        "if 80 < num <= 100:\n",
        "  print(\"grade A\")\n",
        "elif 60 < num <= 80:\n",
        "  print(\"grade B\")\n",
        "elif 40 < num <= 60:\n",
        "  print(\"grade C\")\n",
        "else:\n",
        "  print(\"Failed\")"
      ],
      "metadata": {
        "colab": {
          "base_uri": "https://localhost:8080/"
        },
        "id": "06yPqdq4paTm",
        "outputId": "a450dfe6-d795-4019-a26a-1dbee8af880f"
      },
      "execution_count": null,
      "outputs": [
        {
          "output_type": "stream",
          "name": "stdout",
          "text": [
            "grade A\n"
          ]
        }
      ]
    },
    {
      "cell_type": "markdown",
      "source": [
        "## nested if else:"
      ],
      "metadata": {
        "id": "9uh3FfqmqHse"
      }
    },
    {
      "cell_type": "code",
      "source": [
        "a, b, c = 120, 13, 15\n",
        "\n",
        "if a > b:\n",
        "  if a > c:\n",
        "    print(f\"a is greater than all 3 nos: {a}\")\n",
        "  \n",
        "  "
      ],
      "metadata": {
        "colab": {
          "base_uri": "https://localhost:8080/"
        },
        "id": "mxKwcqtQp5It",
        "outputId": "e87dc2a7-384a-4f6b-adbe-d9abba9022dd"
      },
      "execution_count": null,
      "outputs": [
        {
          "output_type": "stream",
          "name": "stdout",
          "text": [
            "a is greater than all 3 nos: 120\n"
          ]
        }
      ]
    },
    {
      "cell_type": "code",
      "source": [
        "attendance = 70\n",
        "assignment_submitted = 40\n",
        "sports_player = True\n",
        "\n",
        "print(f\"attendence criteria met? : {attendance >= 75}\")\n",
        "print(f\"assignment criteria met? : {assignment_submitted >= 70}\")\n",
        "print(f\"sports criteria met? : {sports_player}\")\n",
        "\n",
        "if attendance >= 75 and assignment_submitted >= 70:\n",
        "    if sports_player:\n",
        "        print(\"The student is eligible to appear in final exam\")\n",
        "    else:\n",
        "        print(\"The student is eligible to appear in final exam\")\n",
        "else:\n",
        "    print(\"The student is not eligible\")"
      ],
      "metadata": {
        "colab": {
          "base_uri": "https://localhost:8080/"
        },
        "id": "bZKQ5HOoqki7",
        "outputId": "8968b713-b3d6-4336-99dd-7f6b5f14f0dc"
      },
      "execution_count": null,
      "outputs": [
        {
          "output_type": "stream",
          "name": "stdout",
          "text": [
            "attendence criteria met? : False\n",
            "assignment criteria met? : False\n",
            "sports criteria met? : True\n",
            "The student is not eligible\n"
          ]
        }
      ]
    },
    {
      "cell_type": "code",
      "source": [],
      "metadata": {
        "id": "XUOa6noaq9n1"
      },
      "execution_count": null,
      "outputs": []
    }
  ]
}