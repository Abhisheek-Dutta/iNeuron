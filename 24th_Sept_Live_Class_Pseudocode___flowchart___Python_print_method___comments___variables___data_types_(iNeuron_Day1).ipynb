{
  "nbformat": 4,
  "nbformat_minor": 0,
  "metadata": {
    "colab": {
      "provenance": []
    },
    "kernelspec": {
      "name": "python3",
      "display_name": "Python 3"
    },
    "language_info": {
      "name": "python"
    }
  },
  "cells": [
    {
      "cell_type": "code",
      "execution_count": 4,
      "metadata": {
        "colab": {
          "base_uri": "https://localhost:8080/"
        },
        "id": "wlaJuyK3a5tB",
        "outputId": "a7350ab1-2df5-4135-a0f6-a51d3e0f8d41"
      },
      "outputs": [
        {
          "output_type": "stream",
          "name": "stdout",
          "text": [
            "Hello Neurons !\n"
          ]
        }
      ],
      "source": [
        "print(\"Hello Neurons !\")"
      ]
    },
    {
      "cell_type": "code",
      "source": [
        "print(\"Greeting from iNeuron\")\n",
        "print(\"Good Evening\")"
      ],
      "metadata": {
        "colab": {
          "base_uri": "https://localhost:8080/"
        },
        "id": "rud_T9_Fbi76",
        "outputId": "9cfaf69e-88f0-451c-cdb3-59ae0b1b60d1"
      },
      "execution_count": 5,
      "outputs": [
        {
          "output_type": "stream",
          "name": "stdout",
          "text": [
            "Greeting from iNeuron\n",
            "Good Evening\n"
          ]
        }
      ]
    },
    {
      "cell_type": "code",
      "source": [
        "print('Greeting from iNeuron')\n",
        "print('Good Evening')"
      ],
      "metadata": {
        "colab": {
          "base_uri": "https://localhost:8080/"
        },
        "id": "ZspwwRKOb_yX",
        "outputId": "c2d35d62-7f51-4e8a-8b32-19c11c098ab9"
      },
      "execution_count": 6,
      "outputs": [
        {
          "output_type": "stream",
          "name": "stdout",
          "text": [
            "Greeting from iNeuron\n",
            "Good Evening\n"
          ]
        }
      ]
    },
    {
      "cell_type": "code",
      "source": [
        "Print('Good Evening') #-> print command is case sensetive"
      ],
      "metadata": {
        "colab": {
          "base_uri": "https://localhost:8080/",
          "height": 197
        },
        "id": "Dy7fUghvcIW3",
        "outputId": "21974f6b-6d65-42be-dbda-d6f61a74055e"
      },
      "execution_count": 7,
      "outputs": [
        {
          "output_type": "error",
          "ename": "NameError",
          "evalue": "ignored",
          "traceback": [
            "\u001b[0;31m---------------------------------------------------------------------------\u001b[0m",
            "\u001b[0;31mNameError\u001b[0m                                 Traceback (most recent call last)",
            "\u001b[0;32m<ipython-input-7-96de021fc45c>\u001b[0m in \u001b[0;36m<module>\u001b[0;34m\u001b[0m\n\u001b[0;32m----> 1\u001b[0;31m \u001b[0mPrint\u001b[0m\u001b[0;34m(\u001b[0m\u001b[0;34m'Good Evening'\u001b[0m\u001b[0;34m)\u001b[0m\u001b[0;34m\u001b[0m\u001b[0;34m\u001b[0m\u001b[0m\n\u001b[0m",
            "\u001b[0;31mNameError\u001b[0m: name 'Print' is not defined"
          ]
        }
      ]
    },
    {
      "cell_type": "code",
      "source": [
        "print \"Good Evening\""
      ],
      "metadata": {
        "colab": {
          "base_uri": "https://localhost:8080/",
          "height": 154
        },
        "id": "BkIGsKvFcNRt",
        "outputId": "67ea66e8-a5d3-452b-db1e-5ee022a570e7"
      },
      "execution_count": 8,
      "outputs": [
        {
          "output_type": "error",
          "ename": "SyntaxError",
          "evalue": "ignored",
          "traceback": [
            "\u001b[0;36m  File \u001b[0;32m\"<ipython-input-8-19a5de821704>\"\u001b[0;36m, line \u001b[0;32m1\u001b[0m\n\u001b[0;31m    print \"Good Evening\"\u001b[0m\n\u001b[0m          ^\u001b[0m\n\u001b[0;31mSyntaxError\u001b[0m\u001b[0;31m:\u001b[0m Missing parentheses in call to 'print'. Did you mean print(\"Good Evening\")?\n"
          ]
        }
      ]
    },
    {
      "cell_type": "code",
      "source": [
        "print(\"Good \n",
        "Evening\")"
      ],
      "metadata": {
        "colab": {
          "base_uri": "https://localhost:8080/",
          "height": 154
        },
        "id": "Ena7FuS2cX9t",
        "outputId": "89fa79ef-adfe-4a71-9328-e167fb2c51c5"
      },
      "execution_count": 9,
      "outputs": [
        {
          "output_type": "error",
          "ename": "SyntaxError",
          "evalue": "ignored",
          "traceback": [
            "\u001b[0;36m  File \u001b[0;32m\"<ipython-input-9-f065c2c370f4>\"\u001b[0;36m, line \u001b[0;32m1\u001b[0m\n\u001b[0;31m    print(\"Good\u001b[0m\n\u001b[0m                ^\u001b[0m\n\u001b[0;31mSyntaxError\u001b[0m\u001b[0;31m:\u001b[0m EOL while scanning string literal\n"
          ]
        }
      ]
    },
    {
      "cell_type": "code",
      "source": [
        "\"Good Morning\""
      ],
      "metadata": {
        "colab": {
          "base_uri": "https://localhost:8080/",
          "height": 38
        },
        "id": "ngBEYGrIcdMv",
        "outputId": "76f6960d-a7b8-48c5-d519-b669485a33bb"
      },
      "execution_count": 10,
      "outputs": [
        {
          "output_type": "execute_result",
          "data": {
            "text/plain": [
              "'Good Morning'"
            ],
            "application/vnd.google.colaboratory.intrinsic+json": {
              "type": "string"
            }
          },
          "metadata": {},
          "execution_count": 10
        }
      ]
    },
    {
      "cell_type": "code",
      "source": [
        "\"Good Morning\"\n",
        "print(\"Good Evening\") #-> Over ride the previous command"
      ],
      "metadata": {
        "colab": {
          "base_uri": "https://localhost:8080/"
        },
        "id": "By6T_9P8cgfH",
        "outputId": "a5d4e982-a30a-4a49-df1a-8ab800c67775"
      },
      "execution_count": 11,
      "outputs": [
        {
          "output_type": "stream",
          "name": "stdout",
          "text": [
            "Good Evening\n"
          ]
        }
      ]
    },
    {
      "cell_type": "code",
      "source": [
        "print(\"\"\"Good \n",
        "Evening\"\"\") #->\"\"\" \"\"\"(Triple Quote) is allow for multiline comment"
      ],
      "metadata": {
        "colab": {
          "base_uri": "https://localhost:8080/"
        },
        "id": "i6Z8bswVcmVl",
        "outputId": "954e33cc-e479-434c-e746-a07c1c8744cc"
      },
      "execution_count": 12,
      "outputs": [
        {
          "output_type": "stream",
          "name": "stdout",
          "text": [
            "Good \n",
            "Evening\n"
          ]
        }
      ]
    },
    {
      "cell_type": "code",
      "source": [
        "print('''The Prime Minister, \n",
        "Shri Narendra Modi inaugurated the Uttar Pradesh Global Investors Summit 2023 \n",
        "in Lucknow today.''')\n",
        "\n",
        "#-> ''' '''(Triple Quote) is allow for multiline comment"
      ],
      "metadata": {
        "colab": {
          "base_uri": "https://localhost:8080/"
        },
        "id": "XeCxEdAxcu4s",
        "outputId": "6b40bb3d-ef02-486c-9a00-e086fcd45345"
      },
      "execution_count": 14,
      "outputs": [
        {
          "output_type": "stream",
          "name": "stdout",
          "text": [
            "The Prime Minister, \n",
            "Shri Narendra Modi inaugurated the Uttar Pradesh Global Investors Summit 2023 \n",
            "in Lucknow today.\n"
          ]
        }
      ]
    },
    {
      "cell_type": "code",
      "source": [
        "# Say Hello to the students -> Comments\n",
        "# print(\"Hi Students\") -> Comments"
      ],
      "metadata": {
        "id": "aRMafRODdH7O"
      },
      "execution_count": 15,
      "outputs": []
    },
    {
      "cell_type": "code",
      "source": [
        "# Multiline comments\n",
        "\n",
        "\"\"\"\n",
        "\n",
        "Say Hi \n",
        "to the student\n",
        "\n",
        "\"\"\"\n",
        "\n",
        "print('Hi Student')"
      ],
      "metadata": {
        "colab": {
          "base_uri": "https://localhost:8080/"
        },
        "id": "T23zCUWDdw7s",
        "outputId": "87a7e32d-048a-4bfa-86cc-247acbb9be75"
      },
      "execution_count": 16,
      "outputs": [
        {
          "output_type": "stream",
          "name": "stdout",
          "text": [
            "Hi Student\n"
          ]
        }
      ]
    },
    {
      "cell_type": "code",
      "source": [
        "#More exceptional cases  in print statements\n",
        "\n",
        "print(\"Hi my name is \"Abhisheek\")"
      ],
      "metadata": {
        "colab": {
          "base_uri": "https://localhost:8080/",
          "height": 154
        },
        "id": "c8sFboXjeSHn",
        "outputId": "d0b970ad-d03f-44fb-f375-654d5995df9f"
      },
      "execution_count": 18,
      "outputs": [
        {
          "output_type": "error",
          "ename": "SyntaxError",
          "evalue": "ignored",
          "traceback": [
            "\u001b[0;36m  File \u001b[0;32m\"<ipython-input-18-c5046b3149bf>\"\u001b[0;36m, line \u001b[0;32m3\u001b[0m\n\u001b[0;31m    print(\"Hi my name is \"Abhisheek\")\u001b[0m\n\u001b[0m                          ^\u001b[0m\n\u001b[0;31mSyntaxError\u001b[0m\u001b[0;31m:\u001b[0m invalid syntax\n"
          ]
        }
      ]
    },
    {
      "cell_type": "code",
      "source": [
        "print('Hi my name is \"Abhisheek\" ')"
      ],
      "metadata": {
        "colab": {
          "base_uri": "https://localhost:8080/"
        },
        "id": "FHsA9Ncteg1k",
        "outputId": "69d81ab3-b419-4c37-9af7-2810f8420060"
      },
      "execution_count": 19,
      "outputs": [
        {
          "output_type": "stream",
          "name": "stdout",
          "text": [
            "Hi my name is \"Abhisheek\" \n"
          ]
        }
      ]
    },
    {
      "cell_type": "code",
      "source": [
        "print(\"Hi my name is 'Abhisheek' \")"
      ],
      "metadata": {
        "colab": {
          "base_uri": "https://localhost:8080/"
        },
        "id": "a_vt1BlRevdj",
        "outputId": "d6e177cf-188a-4582-f6c4-eb4dc7ba4294"
      },
      "execution_count": 20,
      "outputs": [
        {
          "output_type": "stream",
          "name": "stdout",
          "text": [
            "Hi my name is 'Abhisheek' \n"
          ]
        }
      ]
    },
    {
      "cell_type": "code",
      "source": [
        "print(\"\"\"Hi my name is 'Abhisheek' \"\"\")"
      ],
      "metadata": {
        "colab": {
          "base_uri": "https://localhost:8080/"
        },
        "id": "ZMUnjOg0e1sc",
        "outputId": "49872215-e25f-44d5-e995-639dc3d1f654"
      },
      "execution_count": 21,
      "outputs": [
        {
          "output_type": "stream",
          "name": "stdout",
          "text": [
            "Hi my name is 'Abhisheek' \n"
          ]
        }
      ]
    },
    {
      "cell_type": "code",
      "source": [
        "print(\"\"\"Hi my name is \"Abhisheek\" \"\"\")"
      ],
      "metadata": {
        "colab": {
          "base_uri": "https://localhost:8080/"
        },
        "id": "inStRjYDe8K0",
        "outputId": "26f63872-1340-435d-a39d-4c77569cfe52"
      },
      "execution_count": 22,
      "outputs": [
        {
          "output_type": "stream",
          "name": "stdout",
          "text": [
            "Hi my name is \"Abhisheek\" \n"
          ]
        }
      ]
    },
    {
      "cell_type": "code",
      "source": [
        "print(\"\"\"Hi my name is \"Abhisheek\" ! \"\"\")"
      ],
      "metadata": {
        "colab": {
          "base_uri": "https://localhost:8080/"
        },
        "id": "mpng-qcEfA-1",
        "outputId": "a0e21072-55d6-4c21-ffc8-d289f618df2d"
      },
      "execution_count": 23,
      "outputs": [
        {
          "output_type": "stream",
          "name": "stdout",
          "text": [
            "Hi my name is \"Abhisheek\" ! \n"
          ]
        }
      ]
    },
    {
      "cell_type": "code",
      "source": [
        "print(\"Hi my name is \\\"Abhisheek\\\" ! \") #-> escape character using \\"
      ],
      "metadata": {
        "colab": {
          "base_uri": "https://localhost:8080/"
        },
        "id": "dUqwRvvVfHGF",
        "outputId": "a4934ce1-65f9-405f-88e5-267603cced2a"
      },
      "execution_count": 25,
      "outputs": [
        {
          "output_type": "stream",
          "name": "stdout",
          "text": [
            "Hi my name is \"Abhisheek\" ! \n"
          ]
        }
      ]
    },
    {
      "cell_type": "code",
      "source": [
        "123 + 245 #-> Sum of two numbers"
      ],
      "metadata": {
        "colab": {
          "base_uri": "https://localhost:8080/"
        },
        "id": "z5izvYzLfaB8",
        "outputId": "67b9eebe-827e-414c-e8e5-f7966c01529f"
      },
      "execution_count": 26,
      "outputs": [
        {
          "output_type": "execute_result",
          "data": {
            "text/plain": [
              "368"
            ]
          },
          "metadata": {},
          "execution_count": 26
        }
      ]
    },
    {
      "cell_type": "code",
      "source": [
        "123 * 245 #-> Multiplication of two numbers"
      ],
      "metadata": {
        "colab": {
          "base_uri": "https://localhost:8080/"
        },
        "id": "G-iENlQGf8D2",
        "outputId": "8ac1b293-595f-437e-a52a-632e69a41104"
      },
      "execution_count": 27,
      "outputs": [
        {
          "output_type": "execute_result",
          "data": {
            "text/plain": [
              "30135"
            ]
          },
          "metadata": {},
          "execution_count": 27
        }
      ]
    },
    {
      "cell_type": "code",
      "source": [
        "123 / 245"
      ],
      "metadata": {
        "colab": {
          "base_uri": "https://localhost:8080/"
        },
        "id": "SU2noTxxgBgE",
        "outputId": "e5c3ec66-3bf4-4409-e3d9-fd1868b2ce8a"
      },
      "execution_count": 28,
      "outputs": [
        {
          "output_type": "execute_result",
          "data": {
            "text/plain": [
              "0.5020408163265306"
            ]
          },
          "metadata": {},
          "execution_count": 28
        }
      ]
    },
    {
      "cell_type": "code",
      "source": [
        "123**2 #-> Power of 123 raised to 2"
      ],
      "metadata": {
        "colab": {
          "base_uri": "https://localhost:8080/"
        },
        "id": "vdMEUNGygF6j",
        "outputId": "5d2d6b4d-fae1-4c53-a463-0614013d7383"
      },
      "execution_count": 29,
      "outputs": [
        {
          "output_type": "execute_result",
          "data": {
            "text/plain": [
              "15129"
            ]
          },
          "metadata": {},
          "execution_count": 29
        }
      ]
    },
    {
      "cell_type": "code",
      "source": [
        "123%2 #-> Modulo operator which gives you reminder"
      ],
      "metadata": {
        "colab": {
          "base_uri": "https://localhost:8080/"
        },
        "id": "41mE8GFrgKOL",
        "outputId": "376a2685-b196-4e28-975f-73ebe3946e78"
      },
      "execution_count": 30,
      "outputs": [
        {
          "output_type": "execute_result",
          "data": {
            "text/plain": [
              "1"
            ]
          },
          "metadata": {},
          "execution_count": 30
        }
      ]
    },
    {
      "cell_type": "code",
      "source": [
        "(-123)**2"
      ],
      "metadata": {
        "colab": {
          "base_uri": "https://localhost:8080/"
        },
        "id": "S8Hbn7pHgVGF",
        "outputId": "230e83f9-3595-49b8-aeb5-b955d4689f49"
      },
      "execution_count": 31,
      "outputs": [
        {
          "output_type": "execute_result",
          "data": {
            "text/plain": [
              "15129"
            ]
          },
          "metadata": {},
          "execution_count": 31
        }
      ]
    },
    {
      "cell_type": "code",
      "source": [
        "123 * 245\n",
        "\n",
        "print(\"Result\")"
      ],
      "metadata": {
        "colab": {
          "base_uri": "https://localhost:8080/"
        },
        "id": "gCe3QVwhggSe",
        "outputId": "9b66dcdf-0e6f-426c-a8d8-9ef0a22b78fe"
      },
      "execution_count": 32,
      "outputs": [
        {
          "output_type": "stream",
          "name": "stdout",
          "text": [
            "Result\n"
          ]
        }
      ]
    },
    {
      "cell_type": "code",
      "source": [
        "print(123 * 245)\n",
        "\n",
        "print(\"Result\")"
      ],
      "metadata": {
        "colab": {
          "base_uri": "https://localhost:8080/"
        },
        "id": "RVqU9yaygnFU",
        "outputId": "8065fc31-9c4d-428f-b692-8636d9feed23"
      },
      "execution_count": 34,
      "outputs": [
        {
          "output_type": "stream",
          "name": "stdout",
          "text": [
            "30135\n",
            "Result\n"
          ]
        }
      ]
    },
    {
      "cell_type": "code",
      "source": [
        "print(\"123 * 245\")\n",
        "\n",
        "print(\"Result\")"
      ],
      "metadata": {
        "colab": {
          "base_uri": "https://localhost:8080/"
        },
        "id": "gMM-GeCfgtnD",
        "outputId": "11673b50-0759-4498-afb4-214424e81c32"
      },
      "execution_count": 35,
      "outputs": [
        {
          "output_type": "stream",
          "name": "stdout",
          "text": [
            "123 * 245\n",
            "Result\n"
          ]
        }
      ]
    },
    {
      "cell_type": "markdown",
      "source": [
        "#Variables in python"
      ],
      "metadata": {
        "id": "_naR3Hj1hI_R"
      }
    },
    {
      "cell_type": "code",
      "source": [
        "x = 10"
      ],
      "metadata": {
        "id": "muFGl13Sg4Er"
      },
      "execution_count": 36,
      "outputs": []
    },
    {
      "cell_type": "code",
      "source": [
        "print(x)"
      ],
      "metadata": {
        "colab": {
          "base_uri": "https://localhost:8080/"
        },
        "id": "ROOtcFhihk4G",
        "outputId": "76060cc9-8fbf-4667-ee14-68e90cf4f793"
      },
      "execution_count": 37,
      "outputs": [
        {
          "output_type": "stream",
          "name": "stdout",
          "text": [
            "10\n"
          ]
        }
      ]
    },
    {
      "cell_type": "code",
      "source": [
        "y = 20"
      ],
      "metadata": {
        "id": "6AOs74mZhnSi"
      },
      "execution_count": 38,
      "outputs": []
    },
    {
      "cell_type": "code",
      "source": [
        "print(y)"
      ],
      "metadata": {
        "colab": {
          "base_uri": "https://localhost:8080/"
        },
        "id": "0aQdgpYthpR8",
        "outputId": "7c3d5ea4-ee3d-4872-e1c2-c9ce6830be81"
      },
      "execution_count": 39,
      "outputs": [
        {
          "output_type": "stream",
          "name": "stdout",
          "text": [
            "20\n"
          ]
        }
      ]
    },
    {
      "cell_type": "code",
      "source": [
        "print(x + y)"
      ],
      "metadata": {
        "colab": {
          "base_uri": "https://localhost:8080/"
        },
        "id": "ItIdXAldhqns",
        "outputId": "7db3746d-c915-405d-cc9e-808e8cfc6493"
      },
      "execution_count": 40,
      "outputs": [
        {
          "output_type": "stream",
          "name": "stdout",
          "text": [
            "30\n"
          ]
        }
      ]
    },
    {
      "cell_type": "code",
      "source": [
        "print(x / y)"
      ],
      "metadata": {
        "colab": {
          "base_uri": "https://localhost:8080/"
        },
        "id": "RKiEI1oyhslP",
        "outputId": "e2c3be94-7d8c-4287-fbc2-d39fac9de4c2"
      },
      "execution_count": 41,
      "outputs": [
        {
          "output_type": "stream",
          "name": "stdout",
          "text": [
            "0.5\n"
          ]
        }
      ]
    },
    {
      "cell_type": "markdown",
      "source": [
        "##1. Variable names should start with alphabets\n"
      ],
      "metadata": {
        "id": "oCtpHPDLhytY"
      }
    },
    {
      "cell_type": "code",
      "source": [
        "ten = 10\n",
        "ten_number = 10\n",
        "tenNumber = 10"
      ],
      "metadata": {
        "id": "CuCplSYxhxp_"
      },
      "execution_count": 44,
      "outputs": []
    },
    {
      "cell_type": "markdown",
      "source": [
        "##2. Variable names should not contain any special characters like ^ % $ ! @ # & * ()"
      ],
      "metadata": {
        "id": "YC1yditii72o"
      }
    },
    {
      "cell_type": "code",
      "source": [
        "ten* = 10"
      ],
      "metadata": {
        "colab": {
          "base_uri": "https://localhost:8080/",
          "height": 154
        },
        "id": "8kT_4gTChvp7",
        "outputId": "a70d7ca7-53de-4476-ceba-84303598d391"
      },
      "execution_count": 42,
      "outputs": [
        {
          "output_type": "error",
          "ename": "SyntaxError",
          "evalue": "ignored",
          "traceback": [
            "\u001b[0;36m  File \u001b[0;32m\"<ipython-input-42-186f8d3ec400>\"\u001b[0;36m, line \u001b[0;32m1\u001b[0m\n\u001b[0;31m    ten* = 10\u001b[0m\n\u001b[0m         ^\u001b[0m\n\u001b[0;31mSyntaxError\u001b[0m\u001b[0;31m:\u001b[0m invalid syntax\n"
          ]
        }
      ]
    },
    {
      "cell_type": "code",
      "source": [
        "ten%number = 10"
      ],
      "metadata": {
        "colab": {
          "base_uri": "https://localhost:8080/",
          "height": 154
        },
        "id": "FskE4yWzjA6s",
        "outputId": "15cdcf5e-f520-425b-ba0c-9b85907271c3"
      },
      "execution_count": 43,
      "outputs": [
        {
          "output_type": "error",
          "ename": "SyntaxError",
          "evalue": "ignored",
          "traceback": [
            "\u001b[0;36m  File \u001b[0;32m\"<ipython-input-43-3233643d8db9>\"\u001b[0;36m, line \u001b[0;32m1\u001b[0m\n\u001b[0;31m    ten%number = 10\u001b[0m\n\u001b[0m    ^\u001b[0m\n\u001b[0;31mSyntaxError\u001b[0m\u001b[0;31m:\u001b[0m cannot assign to operator\n"
          ]
        }
      ]
    },
    {
      "cell_type": "code",
      "source": [
        "ten = 10\n",
        "ten_number = 10\n",
        "ten%number = 10\n",
        "tenNumber = 10"
      ],
      "metadata": {
        "colab": {
          "base_uri": "https://localhost:8080/",
          "height": 154
        },
        "id": "0QKxByxljDho",
        "outputId": "84d0a4dd-599c-4199-92ea-553181aba88a"
      },
      "execution_count": 45,
      "outputs": [
        {
          "output_type": "error",
          "ename": "SyntaxError",
          "evalue": "ignored",
          "traceback": [
            "\u001b[0;36m  File \u001b[0;32m\"<ipython-input-45-400ff1eaa21e>\"\u001b[0;36m, line \u001b[0;32m3\u001b[0m\n\u001b[0;31m    ten%number = 10\u001b[0m\n\u001b[0m    ^\u001b[0m\n\u001b[0;31mSyntaxError\u001b[0m\u001b[0;31m:\u001b[0m cannot assign to operator\n"
          ]
        }
      ]
    },
    {
      "cell_type": "code",
      "source": [
        "ten = 10\n",
        "ten_number = 10\n",
        "ten/number = 10\n",
        "tenNumber = 10"
      ],
      "metadata": {
        "colab": {
          "base_uri": "https://localhost:8080/",
          "height": 154
        },
        "id": "We3i9kqbjN8a",
        "outputId": "0f534fd1-ab97-4633-afc0-ce2995aeed02"
      },
      "execution_count": 46,
      "outputs": [
        {
          "output_type": "error",
          "ename": "SyntaxError",
          "evalue": "ignored",
          "traceback": [
            "\u001b[0;36m  File \u001b[0;32m\"<ipython-input-46-d4b8d6ed4cd3>\"\u001b[0;36m, line \u001b[0;32m3\u001b[0m\n\u001b[0;31m    ten/number = 10\u001b[0m\n\u001b[0m    ^\u001b[0m\n\u001b[0;31mSyntaxError\u001b[0m\u001b[0;31m:\u001b[0m cannot assign to operator\n"
          ]
        }
      ]
    },
    {
      "cell_type": "markdown",
      "source": [
        "##3. Varibles names can contain number but you can't start with numbers"
      ],
      "metadata": {
        "id": "uPxnqp4kji0y"
      }
    },
    {
      "cell_type": "code",
      "source": [
        "ten10 = 10"
      ],
      "metadata": {
        "id": "KZWTkMVZjiQD"
      },
      "execution_count": 47,
      "outputs": []
    },
    {
      "cell_type": "code",
      "source": [
        "10ten = 10"
      ],
      "metadata": {
        "colab": {
          "base_uri": "https://localhost:8080/",
          "height": 154
        },
        "id": "pakE3equjbJJ",
        "outputId": "38442f77-e99f-4b4c-d35b-7c26dec6fc2e"
      },
      "execution_count": 48,
      "outputs": [
        {
          "output_type": "error",
          "ename": "SyntaxError",
          "evalue": "ignored",
          "traceback": [
            "\u001b[0;36m  File \u001b[0;32m\"<ipython-input-48-c508e1cc1cd5>\"\u001b[0;36m, line \u001b[0;32m1\u001b[0m\n\u001b[0;31m    10ten = 10\u001b[0m\n\u001b[0m      ^\u001b[0m\n\u001b[0;31mSyntaxError\u001b[0m\u001b[0;31m:\u001b[0m invalid syntax\n"
          ]
        }
      ]
    },
    {
      "cell_type": "code",
      "source": [
        "__num = 10 #->Hidden variable"
      ],
      "metadata": {
        "id": "4ZImx1y-jp86"
      },
      "execution_count": 49,
      "outputs": []
    },
    {
      "cell_type": "code",
      "source": [
        "Ten = 10"
      ],
      "metadata": {
        "id": "FF0o9prgjwtH"
      },
      "execution_count": 50,
      "outputs": []
    },
    {
      "cell_type": "code",
      "source": [
        "ten number = 10"
      ],
      "metadata": {
        "colab": {
          "base_uri": "https://localhost:8080/",
          "height": 154
        },
        "id": "z0sOm-TNkByc",
        "outputId": "b54f36e8-37ed-46a6-e02e-ed308697f8b7"
      },
      "execution_count": 51,
      "outputs": [
        {
          "output_type": "error",
          "ename": "SyntaxError",
          "evalue": "ignored",
          "traceback": [
            "\u001b[0;36m  File \u001b[0;32m\"<ipython-input-51-91c87c3e0e8f>\"\u001b[0;36m, line \u001b[0;32m1\u001b[0m\n\u001b[0;31m    ten number = 10\u001b[0m\n\u001b[0m        ^\u001b[0m\n\u001b[0;31mSyntaxError\u001b[0m\u001b[0;31m:\u001b[0m invalid syntax\n"
          ]
        }
      ]
    },
    {
      "cell_type": "code",
      "source": [
        "ten_number = 10"
      ],
      "metadata": {
        "id": "o-Qhe4g8kSoh"
      },
      "execution_count": 52,
      "outputs": []
    },
    {
      "cell_type": "code",
      "source": [
        "_ = 10 #-> Dummy variable"
      ],
      "metadata": {
        "id": "_eFyhG4nluPj"
      },
      "execution_count": 53,
      "outputs": []
    },
    {
      "cell_type": "markdown",
      "source": [
        "##4. Its not strict rule that you should varible names with a Capital letters. But its recommended to use Small letters for the variables.\n",
        "\n"
      ],
      "metadata": {
        "id": "v4k0HhHEkzR7"
      }
    },
    {
      "cell_type": "markdown",
      "source": [
        "#Fundamental Data Types"
      ],
      "metadata": {
        "id": "PIPuts-QlmdL"
      }
    },
    {
      "cell_type": "markdown",
      "source": [
        "##Integers"
      ],
      "metadata": {
        "id": "gqHiA2N0lsag"
      }
    },
    {
      "cell_type": "code",
      "source": [
        "a = 7"
      ],
      "metadata": {
        "id": "J4u0bMA2l3cY"
      },
      "execution_count": 54,
      "outputs": []
    },
    {
      "cell_type": "code",
      "source": [
        "type(a)"
      ],
      "metadata": {
        "colab": {
          "base_uri": "https://localhost:8080/"
        },
        "id": "jx9CS_2Cl9lA",
        "outputId": "a2d6fcaf-e280-428e-ae0c-6b96c21dae2c"
      },
      "execution_count": 55,
      "outputs": [
        {
          "output_type": "execute_result",
          "data": {
            "text/plain": [
              "int"
            ]
          },
          "metadata": {},
          "execution_count": 55
        }
      ]
    },
    {
      "cell_type": "code",
      "source": [
        "b  = 77777"
      ],
      "metadata": {
        "id": "_u-m6M4cmAR_"
      },
      "execution_count": 56,
      "outputs": []
    },
    {
      "cell_type": "code",
      "source": [
        "type(b)"
      ],
      "metadata": {
        "colab": {
          "base_uri": "https://localhost:8080/"
        },
        "id": "LcoZT-IsmE1e",
        "outputId": "aec79b0f-0afc-4553-b391-fb7a86b4f6c9"
      },
      "execution_count": 57,
      "outputs": [
        {
          "output_type": "execute_result",
          "data": {
            "text/plain": [
              "int"
            ]
          },
          "metadata": {},
          "execution_count": 57
        }
      ]
    },
    {
      "cell_type": "markdown",
      "source": [
        "##Floats - Numbers containing decimal numbers"
      ],
      "metadata": {
        "id": "Uz2GcPWVmMKJ"
      }
    },
    {
      "cell_type": "code",
      "source": [
        "pi = 3.14"
      ],
      "metadata": {
        "id": "5n11k_-5mKLt"
      },
      "execution_count": 58,
      "outputs": []
    },
    {
      "cell_type": "code",
      "source": [
        "type(pi)"
      ],
      "metadata": {
        "colab": {
          "base_uri": "https://localhost:8080/"
        },
        "id": "ZHG45Sp6mTrg",
        "outputId": "47ac41d0-3a8d-41d2-a299-598b30adae3e"
      },
      "execution_count": 59,
      "outputs": [
        {
          "output_type": "execute_result",
          "data": {
            "text/plain": [
              "float"
            ]
          },
          "metadata": {},
          "execution_count": 59
        }
      ]
    },
    {
      "cell_type": "code",
      "source": [
        "x = 2.0\n",
        "\n",
        "type(x)"
      ],
      "metadata": {
        "colab": {
          "base_uri": "https://localhost:8080/"
        },
        "id": "4X1NU5DDmWOn",
        "outputId": "9faa8bfe-ec84-4cef-a885-0a1a77f99faa"
      },
      "execution_count": 60,
      "outputs": [
        {
          "output_type": "execute_result",
          "data": {
            "text/plain": [
              "float"
            ]
          },
          "metadata": {},
          "execution_count": 60
        }
      ]
    },
    {
      "cell_type": "code",
      "source": [
        "pi = 22/7\n",
        "pi"
      ],
      "metadata": {
        "colab": {
          "base_uri": "https://localhost:8080/"
        },
        "id": "KXxaZjxPmaCf",
        "outputId": "f0646a83-3d00-45b9-9646-b97175bbd387"
      },
      "execution_count": 61,
      "outputs": [
        {
          "output_type": "execute_result",
          "data": {
            "text/plain": [
              "3.142857142857143"
            ]
          },
          "metadata": {},
          "execution_count": 61
        }
      ]
    },
    {
      "cell_type": "code",
      "source": [
        "type(pi)"
      ],
      "metadata": {
        "colab": {
          "base_uri": "https://localhost:8080/"
        },
        "id": "WNw3l54Gmf1-",
        "outputId": "5e723ea5-2fab-48aa-9657-7e76e734dc62"
      },
      "execution_count": 62,
      "outputs": [
        {
          "output_type": "execute_result",
          "data": {
            "text/plain": [
              "float"
            ]
          },
          "metadata": {},
          "execution_count": 62
        }
      ]
    },
    {
      "cell_type": "markdown",
      "source": [
        "##Complex numbers"
      ],
      "metadata": {
        "id": "aTcMZOA7mu89"
      }
    },
    {
      "cell_type": "code",
      "source": [
        "a = 2+3j\n",
        "\n",
        "a"
      ],
      "metadata": {
        "colab": {
          "base_uri": "https://localhost:8080/"
        },
        "id": "KFJb6rUDmiP2",
        "outputId": "2a911583-dc34-473d-c18c-126143c5e9ca"
      },
      "execution_count": 64,
      "outputs": [
        {
          "output_type": "execute_result",
          "data": {
            "text/plain": [
              "(2+3j)"
            ]
          },
          "metadata": {},
          "execution_count": 64
        }
      ]
    },
    {
      "cell_type": "code",
      "source": [
        "type(a)"
      ],
      "metadata": {
        "colab": {
          "base_uri": "https://localhost:8080/"
        },
        "id": "DRiFvfWCm1Df",
        "outputId": "61f57638-45bf-47d8-bb7a-310e57bc5df9"
      },
      "execution_count": 65,
      "outputs": [
        {
          "output_type": "execute_result",
          "data": {
            "text/plain": [
              "complex"
            ]
          },
          "metadata": {},
          "execution_count": 65
        }
      ]
    },
    {
      "cell_type": "code",
      "source": [
        "a.real"
      ],
      "metadata": {
        "colab": {
          "base_uri": "https://localhost:8080/"
        },
        "id": "7exb3jH1m5dI",
        "outputId": "158a699b-4ee8-474b-a213-86786491ba84"
      },
      "execution_count": 66,
      "outputs": [
        {
          "output_type": "execute_result",
          "data": {
            "text/plain": [
              "2.0"
            ]
          },
          "metadata": {},
          "execution_count": 66
        }
      ]
    },
    {
      "cell_type": "code",
      "source": [
        "a.imag"
      ],
      "metadata": {
        "colab": {
          "base_uri": "https://localhost:8080/"
        },
        "id": "tXN201rUnXgI",
        "outputId": "430de45b-29df-490e-82d3-92e02fb3b0aa"
      },
      "execution_count": 68,
      "outputs": [
        {
          "output_type": "execute_result",
          "data": {
            "text/plain": [
              "3.0"
            ]
          },
          "metadata": {},
          "execution_count": 68
        }
      ]
    },
    {
      "cell_type": "markdown",
      "source": [
        "# Dynamic Typing"
      ],
      "metadata": {
        "id": "OdLPiNNSndlM"
      }
    },
    {
      "cell_type": "code",
      "source": [
        "a = 22\n",
        "print(type(a))\n",
        "\n",
        "a = 22.2\n",
        "print(type(a))\n",
        "\n",
        "a = \"Abhi\"\n",
        "print(type(a))"
      ],
      "metadata": {
        "colab": {
          "base_uri": "https://localhost:8080/"
        },
        "id": "0ZcumSt2nZ-H",
        "outputId": "86c82d76-1c35-4a86-a670-b43aa7d90cbd"
      },
      "execution_count": 72,
      "outputs": [
        {
          "output_type": "stream",
          "name": "stdout",
          "text": [
            "<class 'int'>\n",
            "<class 'float'>\n",
            "<class 'str'>\n"
          ]
        }
      ]
    },
    {
      "cell_type": "code",
      "source": [
        "print(a)"
      ],
      "metadata": {
        "colab": {
          "base_uri": "https://localhost:8080/"
        },
        "id": "3C3BnGZ6nrR1",
        "outputId": "7f06a8f8-3b4c-4d2c-c596-9659c536f581"
      },
      "execution_count": 73,
      "outputs": [
        {
          "output_type": "stream",
          "name": "stdout",
          "text": [
            "Abhi\n"
          ]
        }
      ]
    },
    {
      "cell_type": "markdown",
      "source": [
        "#Strong typing"
      ],
      "metadata": {
        "id": "TFEFLPMOoZ1q"
      }
    },
    {
      "cell_type": "code",
      "source": [
        "\"Day\" + 1"
      ],
      "metadata": {
        "colab": {
          "base_uri": "https://localhost:8080/",
          "height": 197
        },
        "id": "2znY2fmJn97p",
        "outputId": "be8aa90e-89fb-4204-a591-cb7cc1853b97"
      },
      "execution_count": 74,
      "outputs": [
        {
          "output_type": "error",
          "ename": "TypeError",
          "evalue": "ignored",
          "traceback": [
            "\u001b[0;31m---------------------------------------------------------------------------\u001b[0m",
            "\u001b[0;31mTypeError\u001b[0m                                 Traceback (most recent call last)",
            "\u001b[0;32m<ipython-input-74-d0dcd09775fb>\u001b[0m in \u001b[0;36m<module>\u001b[0;34m\u001b[0m\n\u001b[0;32m----> 1\u001b[0;31m \u001b[0;34m\"Day\"\u001b[0m \u001b[0;34m+\u001b[0m \u001b[0;36m1\u001b[0m\u001b[0;34m\u001b[0m\u001b[0;34m\u001b[0m\u001b[0m\n\u001b[0m",
            "\u001b[0;31mTypeError\u001b[0m: can only concatenate str (not \"int\") to str"
          ]
        }
      ]
    },
    {
      "cell_type": "code",
      "source": [
        "\"Day\" + \"1\""
      ],
      "metadata": {
        "colab": {
          "base_uri": "https://localhost:8080/",
          "height": 38
        },
        "id": "xHFFLpRPonEs",
        "outputId": "41a51022-3d0f-46f1-e5cc-d07eeb1252f5"
      },
      "execution_count": 75,
      "outputs": [
        {
          "output_type": "execute_result",
          "data": {
            "text/plain": [
              "'Day1'"
            ],
            "application/vnd.google.colaboratory.intrinsic+json": {
              "type": "string"
            }
          },
          "metadata": {},
          "execution_count": 75
        }
      ]
    },
    {
      "cell_type": "code",
      "source": [
        "\"22\" + \"22\""
      ],
      "metadata": {
        "colab": {
          "base_uri": "https://localhost:8080/",
          "height": 38
        },
        "id": "4uOLfi0GoqrF",
        "outputId": "c17a6ed2-1a2a-49f3-b806-fc46e508bd6c"
      },
      "execution_count": 76,
      "outputs": [
        {
          "output_type": "execute_result",
          "data": {
            "text/plain": [
              "'2222'"
            ],
            "application/vnd.google.colaboratory.intrinsic+json": {
              "type": "string"
            }
          },
          "metadata": {},
          "execution_count": 76
        }
      ]
    },
    {
      "cell_type": "code",
      "source": [
        "\"Abhisheek\" + \"Dutta\""
      ],
      "metadata": {
        "colab": {
          "base_uri": "https://localhost:8080/",
          "height": 38
        },
        "id": "Vc4dMxIvowNP",
        "outputId": "a1b15a63-2164-4d93-a668-821e39d5c765"
      },
      "execution_count": 77,
      "outputs": [
        {
          "output_type": "execute_result",
          "data": {
            "text/plain": [
              "'AbhisheekDutta'"
            ],
            "application/vnd.google.colaboratory.intrinsic+json": {
              "type": "string"
            }
          },
          "metadata": {},
          "execution_count": 77
        }
      ]
    },
    {
      "cell_type": "code",
      "source": [
        "22 + 22"
      ],
      "metadata": {
        "colab": {
          "base_uri": "https://localhost:8080/"
        },
        "id": "ZplOOuCQo0D4",
        "outputId": "6e4bed3e-1ac6-4b56-98ac-87ca6432c80f"
      },
      "execution_count": 78,
      "outputs": [
        {
          "output_type": "execute_result",
          "data": {
            "text/plain": [
              "44"
            ]
          },
          "metadata": {},
          "execution_count": 78
        }
      ]
    },
    {
      "cell_type": "code",
      "source": [
        "\"22\" + 22"
      ],
      "metadata": {
        "colab": {
          "base_uri": "https://localhost:8080/",
          "height": 197
        },
        "id": "7UnbcXMJo78K",
        "outputId": "a50790ca-6fee-405a-dfa3-efec02f89073"
      },
      "execution_count": 79,
      "outputs": [
        {
          "output_type": "error",
          "ename": "TypeError",
          "evalue": "ignored",
          "traceback": [
            "\u001b[0;31m---------------------------------------------------------------------------\u001b[0m",
            "\u001b[0;31mTypeError\u001b[0m                                 Traceback (most recent call last)",
            "\u001b[0;32m<ipython-input-79-2e2b19d89d15>\u001b[0m in \u001b[0;36m<module>\u001b[0;34m\u001b[0m\n\u001b[0;32m----> 1\u001b[0;31m \u001b[0;34m\"22\"\u001b[0m \u001b[0;34m+\u001b[0m \u001b[0;36m22\u001b[0m\u001b[0;34m\u001b[0m\u001b[0;34m\u001b[0m\u001b[0m\n\u001b[0m",
            "\u001b[0;31mTypeError\u001b[0m: can only concatenate str (not \"int\") to str"
          ]
        }
      ]
    },
    {
      "cell_type": "code",
      "source": [
        "22 + \"22\""
      ],
      "metadata": {
        "colab": {
          "base_uri": "https://localhost:8080/",
          "height": 197
        },
        "id": "o5erjcVopFMx",
        "outputId": "5bcabbf6-59fb-4821-ae59-3ef16a1f7827"
      },
      "execution_count": 80,
      "outputs": [
        {
          "output_type": "error",
          "ename": "TypeError",
          "evalue": "ignored",
          "traceback": [
            "\u001b[0;31m---------------------------------------------------------------------------\u001b[0m",
            "\u001b[0;31mTypeError\u001b[0m                                 Traceback (most recent call last)",
            "\u001b[0;32m<ipython-input-80-11469b07b681>\u001b[0m in \u001b[0;36m<module>\u001b[0;34m\u001b[0m\n\u001b[0;32m----> 1\u001b[0;31m \u001b[0;36m22\u001b[0m \u001b[0;34m+\u001b[0m \u001b[0;34m\"22\"\u001b[0m\u001b[0;34m\u001b[0m\u001b[0;34m\u001b[0m\u001b[0m\n\u001b[0m",
            "\u001b[0;31mTypeError\u001b[0m: unsupported operand type(s) for +: 'int' and 'str'"
          ]
        }
      ]
    },
    {
      "cell_type": "code",
      "source": [
        "'22' + \"22\""
      ],
      "metadata": {
        "colab": {
          "base_uri": "https://localhost:8080/",
          "height": 38
        },
        "id": "MJxFOFwypMTX",
        "outputId": "87fceec4-00d3-420e-f37f-d6702da12f25"
      },
      "execution_count": 81,
      "outputs": [
        {
          "output_type": "execute_result",
          "data": {
            "text/plain": [
              "'2222'"
            ],
            "application/vnd.google.colaboratory.intrinsic+json": {
              "type": "string"
            }
          },
          "metadata": {},
          "execution_count": 81
        }
      ]
    },
    {
      "cell_type": "code",
      "source": [
        "22.2 + 1"
      ],
      "metadata": {
        "colab": {
          "base_uri": "https://localhost:8080/"
        },
        "id": "aGf5XIowpPV_",
        "outputId": "0e35adfa-6d37-449f-cd6a-9685e79664d4"
      },
      "execution_count": 82,
      "outputs": [
        {
          "output_type": "execute_result",
          "data": {
            "text/plain": [
              "23.2"
            ]
          },
          "metadata": {},
          "execution_count": 82
        }
      ]
    },
    {
      "cell_type": "code",
      "source": [
        "a = 1 #-> Integer data type\n",
        "b = 1.2 #-> float data type\n",
        "c = \"Abhisheek\" #-> string data type\n",
        "d = 2+3j #-> complex data type"
      ],
      "metadata": {
        "id": "PhZASVlopTtQ"
      },
      "execution_count": 83,
      "outputs": []
    },
    {
      "cell_type": "code",
      "source": [
        "print(\"Hi welcome to class Python language\")"
      ],
      "metadata": {
        "colab": {
          "base_uri": "https://localhost:8080/"
        },
        "id": "h9wU12_2p5BI",
        "outputId": "f198f8a8-4baa-46c1-c36b-d0caaa1b45ec"
      },
      "execution_count": 93,
      "outputs": [
        {
          "output_type": "stream",
          "name": "stdout",
          "text": [
            "Hi welcome to class Python language\n"
          ]
        }
      ]
    },
    {
      "cell_type": "code",
      "source": [
        "print(\"Hi welcome to class Java language\")"
      ],
      "metadata": {
        "colab": {
          "base_uri": "https://localhost:8080/"
        },
        "id": "O92hnzE2qHcT",
        "outputId": "cbdeb4e2-92e7-4f24-d1bf-0df12de99f60"
      },
      "execution_count": 92,
      "outputs": [
        {
          "output_type": "stream",
          "name": "stdout",
          "text": [
            "Hi welcome to class Java language\n"
          ]
        }
      ]
    },
    {
      "cell_type": "code",
      "source": [
        "language = \"Python\"\n",
        "\n",
        "print(\"Hi welcome to class of \" + language + ' language')"
      ],
      "metadata": {
        "colab": {
          "base_uri": "https://localhost:8080/"
        },
        "id": "jV29zAvjq5zS",
        "outputId": "946547a0-d19c-415a-ae63-e9ccbb95dd6f"
      },
      "execution_count": 94,
      "outputs": [
        {
          "output_type": "stream",
          "name": "stdout",
          "text": [
            "Hi welcome to class of Python language\n"
          ]
        }
      ]
    },
    {
      "cell_type": "code",
      "source": [
        "language = \"Java\"\n",
        "\n",
        "print(\"Hi welcome to class of \" + language + ' language') #-> allowed but rarely used"
      ],
      "metadata": {
        "colab": {
          "base_uri": "https://localhost:8080/"
        },
        "id": "k-S0ZupYrE-s",
        "outputId": "7cd43dfb-bc28-4427-be63-d122e44be7da"
      },
      "execution_count": 100,
      "outputs": [
        {
          "output_type": "stream",
          "name": "stdout",
          "text": [
            "Hi welcome to class of Java language\n"
          ]
        }
      ]
    },
    {
      "cell_type": "code",
      "source": [
        "# f -> formatted string method\n",
        "language = \"JavaScript\"\n",
        "print(f\"Hi welcome to class of {language} language\") # current standard approach used in python"
      ],
      "metadata": {
        "colab": {
          "base_uri": "https://localhost:8080/"
        },
        "id": "U2V4cfPHrOuu",
        "outputId": "881fb9fe-4bc7-4226-ada9-540c4082efa7"
      },
      "execution_count": 101,
      "outputs": [
        {
          "output_type": "stream",
          "name": "stdout",
          "text": [
            "Hi welcome to class of JavaScript language\n"
          ]
        }
      ]
    },
    {
      "cell_type": "code",
      "source": [
        "# f -> # f -> without formatted string method\n",
        "language = \"JavaScript\"\n",
        "print(\"Hi welcome to class of {language} language\") "
      ],
      "metadata": {
        "colab": {
          "base_uri": "https://localhost:8080/"
        },
        "id": "_52tiZEmrb9D",
        "outputId": "605c6e7f-3d52-4f18-a737-3885f22b4b60"
      },
      "execution_count": 103,
      "outputs": [
        {
          "output_type": "stream",
          "name": "stdout",
          "text": [
            "Hi welcome to class of {language} language\n"
          ]
        }
      ]
    },
    {
      "cell_type": "code",
      "source": [
        "language = \"JavaScript\"\n",
        "print(\"Hi welcome to class of {} language\".format(language)) #->Old way"
      ],
      "metadata": {
        "colab": {
          "base_uri": "https://localhost:8080/"
        },
        "id": "E-KDNhR2spLV",
        "outputId": "c8181b4a-9a7d-46bf-c5f9-17d467ee1d39"
      },
      "execution_count": 104,
      "outputs": [
        {
          "output_type": "stream",
          "name": "stdout",
          "text": [
            "Hi welcome to class of JavaScript language\n"
          ]
        }
      ]
    },
    {
      "cell_type": "code",
      "source": [
        "# f -> formatted string method\n",
        "num = \"first\"\n",
        "language = \"JavaScript\"\n",
        "print(f\"Today is the {num} class of {language} language\") # current standard approach used in python"
      ],
      "metadata": {
        "colab": {
          "base_uri": "https://localhost:8080/"
        },
        "id": "dowMjqEotUAh",
        "outputId": "390c7278-2936-4502-bb03-e3c1cb6494b6"
      },
      "execution_count": 105,
      "outputs": [
        {
          "output_type": "stream",
          "name": "stdout",
          "text": [
            "Today is the first class of JavaScript language\n"
          ]
        }
      ]
    },
    {
      "cell_type": "code",
      "source": [
        "num = \"first\"\n",
        "language = \"JavaScript\"\n",
        "print(\"Today is the {} class of {} language\".format(num, language)) #-> old way"
      ],
      "metadata": {
        "colab": {
          "base_uri": "https://localhost:8080/"
        },
        "id": "hDzPMMsDt13t",
        "outputId": "ed99ba8a-7f09-48db-c5f5-e09e0fa97b96"
      },
      "execution_count": 108,
      "outputs": [
        {
          "output_type": "stream",
          "name": "stdout",
          "text": [
            "Today is the first class of JavaScript language\n"
          ]
        }
      ]
    },
    {
      "cell_type": "code",
      "source": [
        "num = \"first\"\n",
        "language = \"JavaScript\"\n",
        "print(\"Today is the \"+num+\" class of \"+language+ \" language\")"
      ],
      "metadata": {
        "colab": {
          "base_uri": "https://localhost:8080/"
        },
        "id": "euq8yNn0uT0l",
        "outputId": "c790c61f-6d6e-4511-abc4-5e06b6a28e19"
      },
      "execution_count": 109,
      "outputs": [
        {
          "output_type": "stream",
          "name": "stdout",
          "text": [
            "Today is the first class of JavaScript language\n"
          ]
        }
      ]
    },
    {
      "cell_type": "code",
      "source": [
        "a = 22\n",
        "b = 34\n",
        "c = a+b\n",
        "print(f\"the result sum of two numbers a : {a} and b : {b} is = {c} \")"
      ],
      "metadata": {
        "colab": {
          "base_uri": "https://localhost:8080/"
        },
        "id": "OrynzN4YvGkA",
        "outputId": "c4ad1d2d-2f10-4875-ad3f-9d3af7b45c13"
      },
      "execution_count": 112,
      "outputs": [
        {
          "output_type": "stream",
          "name": "stdout",
          "text": [
            "the result sum of two numbers a : 22 and b : 34 is = 56 \n"
          ]
        }
      ]
    },
    {
      "cell_type": "markdown",
      "source": [
        "#Boolean"
      ],
      "metadata": {
        "id": "uxxQrbA-wIsB"
      }
    },
    {
      "cell_type": "code",
      "source": [
        "one = True\n",
        "two = False\n",
        "\n",
        "print(type(one))\n",
        "print(type(two))"
      ],
      "metadata": {
        "colab": {
          "base_uri": "https://localhost:8080/"
        },
        "id": "xKZ3YDeuvzah",
        "outputId": "70814c55-02d9-4a5f-8252-2188bf9253a4"
      },
      "execution_count": 113,
      "outputs": [
        {
          "output_type": "stream",
          "name": "stdout",
          "text": [
            "<class 'bool'>\n",
            "<class 'bool'>\n"
          ]
        }
      ]
    },
    {
      "cell_type": "code",
      "source": [
        "class_starts_at = 3 \n",
        "you_came_at = 2\n",
        "you_understood_all_concepts = you_came_at < class_starts_at\n",
        "\n",
        "print(f\"You understood everything?: {you_understood_all_concepts}\")"
      ],
      "metadata": {
        "colab": {
          "base_uri": "https://localhost:8080/"
        },
        "id": "CNE7-fhUwVsD",
        "outputId": "cf79ac62-7526-46b7-90e0-935b12bfe25a"
      },
      "execution_count": 114,
      "outputs": [
        {
          "output_type": "stream",
          "name": "stdout",
          "text": [
            "You understood everything?: True\n"
          ]
        }
      ]
    },
    {
      "cell_type": "code",
      "source": [
        "class_starts_at = 3 \n",
        "you_came_at = 4\n",
        "you_understood_all_concepts = you_came_at < class_starts_at\n",
        "\n",
        "print(f\"You understood everything?: {you_understood_all_concepts}\")"
      ],
      "metadata": {
        "colab": {
          "base_uri": "https://localhost:8080/"
        },
        "id": "nuojwVmTw0Jg",
        "outputId": "2ffd2e51-e423-405b-82f4-a7cc6a2d64cc"
      },
      "execution_count": 115,
      "outputs": [
        {
          "output_type": "stream",
          "name": "stdout",
          "text": [
            "You understood everything?: False\n"
          ]
        }
      ]
    },
    {
      "cell_type": "code",
      "source": [
        "# = means assignment\n",
        "# == means comparing equality\n",
        "is_raining = False\n",
        "umbralla_available = False\n",
        "go_to_college = is_raining == umbralla_available # Cop\n",
        "go_to_college"
      ],
      "metadata": {
        "colab": {
          "base_uri": "https://localhost:8080/"
        },
        "id": "M6bZH9ObxP0g",
        "outputId": "0c97eea7-1bd9-40cb-b7b3-f9609a852f4f"
      },
      "execution_count": 116,
      "outputs": [
        {
          "output_type": "execute_result",
          "data": {
            "text/plain": [
              "True"
            ]
          },
          "metadata": {},
          "execution_count": 116
        }
      ]
    },
    {
      "cell_type": "code",
      "source": [
        "numA = 5\n",
        "numB = 6\n",
        "numA == numB"
      ],
      "metadata": {
        "colab": {
          "base_uri": "https://localhost:8080/"
        },
        "id": "z4H8IVfFxXPt",
        "outputId": "3a96b4f6-d8cf-4843-a62a-3d0f334840d3"
      },
      "execution_count": 117,
      "outputs": [
        {
          "output_type": "execute_result",
          "data": {
            "text/plain": [
              "False"
            ]
          },
          "metadata": {},
          "execution_count": 117
        }
      ]
    },
    {
      "cell_type": "code",
      "source": [
        "numA = 5\n",
        "numB = 5\n",
        "numA == numB"
      ],
      "metadata": {
        "colab": {
          "base_uri": "https://localhost:8080/"
        },
        "id": "b9FRAagvxlP-",
        "outputId": "6fd1129c-aa0c-4f4c-e957-9fb74ecaf317"
      },
      "execution_count": 118,
      "outputs": [
        {
          "output_type": "execute_result",
          "data": {
            "text/plain": [
              "True"
            ]
          },
          "metadata": {},
          "execution_count": 118
        }
      ]
    },
    {
      "cell_type": "code",
      "source": [
        "numA = 5\n",
        "numB = 5\n",
        "numA > numB"
      ],
      "metadata": {
        "colab": {
          "base_uri": "https://localhost:8080/"
        },
        "id": "RmCof0zoxqEg",
        "outputId": "7d885f83-ca77-4826-accd-84b4d646ea7f"
      },
      "execution_count": 119,
      "outputs": [
        {
          "output_type": "execute_result",
          "data": {
            "text/plain": [
              "False"
            ]
          },
          "metadata": {},
          "execution_count": 119
        }
      ]
    },
    {
      "cell_type": "code",
      "source": [
        "numA = 5\n",
        "numB = 5\n",
        "numA >= numB"
      ],
      "metadata": {
        "colab": {
          "base_uri": "https://localhost:8080/"
        },
        "id": "lZmnHzYAxvMq",
        "outputId": "b4ca3d45-1910-420a-eb5c-547e93cdff56"
      },
      "execution_count": 120,
      "outputs": [
        {
          "output_type": "execute_result",
          "data": {
            "text/plain": [
              "True"
            ]
          },
          "metadata": {},
          "execution_count": 120
        }
      ]
    },
    {
      "cell_type": "code",
      "source": [
        "\"Abhisheek\" + \" Dutta \" + \"Abhi\""
      ],
      "metadata": {
        "colab": {
          "base_uri": "https://localhost:8080/",
          "height": 38
        },
        "id": "kzz_L30wxvzQ",
        "outputId": "139e7456-40f5-4076-f576-ba54fc971ea5"
      },
      "execution_count": 121,
      "outputs": [
        {
          "output_type": "execute_result",
          "data": {
            "text/plain": [
              "'Abhisheek Dutta Abhi'"
            ],
            "application/vnd.google.colaboratory.intrinsic+json": {
              "type": "string"
            }
          },
          "metadata": {},
          "execution_count": 121
        }
      ]
    },
    {
      "cell_type": "code",
      "source": [
        "\"My name is \\\"Abhisheek\\\" Dutta\""
      ],
      "metadata": {
        "colab": {
          "base_uri": "https://localhost:8080/",
          "height": 38
        },
        "id": "qGau4XALx15v",
        "outputId": "b83d2302-319e-4754-a813-9794f9ffd087"
      },
      "execution_count": 122,
      "outputs": [
        {
          "output_type": "execute_result",
          "data": {
            "text/plain": [
              "'My name is \"Abhisheek\" Dutta'"
            ],
            "application/vnd.google.colaboratory.intrinsic+json": {
              "type": "string"
            }
          },
          "metadata": {},
          "execution_count": 122
        }
      ]
    },
    {
      "cell_type": "code",
      "source": [
        "print(\"\\\"\")"
      ],
      "metadata": {
        "colab": {
          "base_uri": "https://localhost:8080/"
        },
        "id": "YZTw1opyx6im",
        "outputId": "baff7db7-257c-495d-95f3-6342befea050"
      },
      "execution_count": 123,
      "outputs": [
        {
          "output_type": "stream",
          "name": "stdout",
          "text": [
            "\"\n"
          ]
        }
      ]
    },
    {
      "cell_type": "code",
      "source": [
        "print(\"\"\" \" \"\"\")"
      ],
      "metadata": {
        "colab": {
          "base_uri": "https://localhost:8080/"
        },
        "id": "ese00WT8x_I7",
        "outputId": "04b3234c-29da-449d-e803-ef7f2d2270ce"
      },
      "execution_count": 124,
      "outputs": [
        {
          "output_type": "stream",
          "name": "stdout",
          "text": [
            " \" \n"
          ]
        }
      ]
    },
    {
      "cell_type": "code",
      "source": [
        "print(\"\"\" / \"\"\")"
      ],
      "metadata": {
        "colab": {
          "base_uri": "https://localhost:8080/"
        },
        "id": "jnpv3bAqyDvI",
        "outputId": "975849ce-6fb5-4994-e299-45441665e98d"
      },
      "execution_count": 125,
      "outputs": [
        {
          "output_type": "stream",
          "name": "stdout",
          "text": [
            " / \n"
          ]
        }
      ]
    },
    {
      "cell_type": "code",
      "source": [
        "name = \"Abhi\"\n",
        "print(f\"My name is: {name}\")"
      ],
      "metadata": {
        "colab": {
          "base_uri": "https://localhost:8080/"
        },
        "id": "zWtRq4SJyGAz",
        "outputId": "5bc93c01-233f-454e-8713-a6b73092fd54"
      },
      "execution_count": 126,
      "outputs": [
        {
          "output_type": "stream",
          "name": "stdout",
          "text": [
            "My name is: Abhi\n"
          ]
        }
      ]
    },
    {
      "cell_type": "code",
      "source": [
        "name = 1000\n",
        "print(f\"My name is: {name}\")"
      ],
      "metadata": {
        "colab": {
          "base_uri": "https://localhost:8080/"
        },
        "id": "pQBCMklIyNiw",
        "outputId": "0b4ab15f-8b0d-4a0a-c226-2f328abd0350"
      },
      "execution_count": 127,
      "outputs": [
        {
          "output_type": "stream",
          "name": "stdout",
          "text": [
            "My name is: 1000\n"
          ]
        }
      ]
    },
    {
      "cell_type": "code",
      "source": [
        "a = 2\n",
        "b = 3\n",
        "c = 4\n",
        "__result__ = a+b+c\n",
        "print(f\"sum = {__result__}\")"
      ],
      "metadata": {
        "colab": {
          "base_uri": "https://localhost:8080/"
        },
        "id": "y8cGBFRPySxJ",
        "outputId": "a18e851e-21aa-4ad5-d51b-3b748b4ceab0"
      },
      "execution_count": 128,
      "outputs": [
        {
          "output_type": "stream",
          "name": "stdout",
          "text": [
            "sum = 9\n"
          ]
        }
      ]
    },
    {
      "cell_type": "code",
      "source": [
        "z = 2+5j"
      ],
      "metadata": {
        "id": "w8mo2sz-yZev"
      },
      "execution_count": 129,
      "outputs": []
    },
    {
      "cell_type": "code",
      "source": [
        "type(z)"
      ],
      "metadata": {
        "colab": {
          "base_uri": "https://localhost:8080/"
        },
        "id": "VUezGu26ykOT",
        "outputId": "79d91272-acd5-43df-89a4-5b02d81744c4"
      },
      "execution_count": 132,
      "outputs": [
        {
          "output_type": "execute_result",
          "data": {
            "text/plain": [
              "complex"
            ]
          },
          "metadata": {},
          "execution_count": 132
        }
      ]
    },
    {
      "cell_type": "code",
      "source": [
        "z.real"
      ],
      "metadata": {
        "colab": {
          "base_uri": "https://localhost:8080/"
        },
        "id": "qr3Avmuiylzu",
        "outputId": "4b8f48d3-cd2a-49ee-eafa-360a07287885"
      },
      "execution_count": 133,
      "outputs": [
        {
          "output_type": "execute_result",
          "data": {
            "text/plain": [
              "2.0"
            ]
          },
          "metadata": {},
          "execution_count": 133
        }
      ]
    },
    {
      "cell_type": "code",
      "source": [
        "z.imag"
      ],
      "metadata": {
        "colab": {
          "base_uri": "https://localhost:8080/"
        },
        "id": "WyRLv9WPyufI",
        "outputId": "bec8fee9-5475-40de-cd46-9c8b62b343f1"
      },
      "execution_count": 134,
      "outputs": [
        {
          "output_type": "execute_result",
          "data": {
            "text/plain": [
              "5.0"
            ]
          },
          "metadata": {},
          "execution_count": 134
        }
      ]
    }
  ]
}